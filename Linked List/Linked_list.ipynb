{
 "cells": [
  {
   "cell_type": "code",
   "execution_count": 1,
   "metadata": {},
   "outputs": [
    {
     "name": "stdout",
     "output_type": "stream",
     "text": [
      "1\n",
      "2\n",
      "3\n"
     ]
    }
   ],
   "source": [
    "## Create a class\n",
    "\n",
    "class Node:\n",
    "    def __init__(self,value):\n",
    "        self.data=value\n",
    "        self.next=None\n",
    "        \n",
    "        \n",
    "        \n",
    "first=Node(1)\n",
    "second=Node(2)\n",
    "Thrid=Node(3)\n",
    "\n",
    "##print(id(first),id(second),id(Thrid))\n",
    "##2257165502368 2257165505824 2257165504816\n",
    "first.next=second\n",
    "##print(first.next)\n",
    "##<__main__.Node object at 0x0000020D898C5130>\n",
    "##print(int(0x0000020D898C5130))\n",
    "second.next=Thrid\n",
    "head=first \n",
    "\n",
    "##del(first)\n",
    "##del(second)\n",
    "##del(Thrid)\n",
    "print(head.data)\n",
    "print(head.next.data)\n",
    "print(head.next.next.data)\n"
   ]
  },
  {
   "cell_type": "code",
   "execution_count": 2,
   "metadata": {},
   "outputs": [
    {
     "name": "stdout",
     "output_type": "stream",
     "text": [
      "1\n",
      "2\n",
      "3\n",
      "1\n",
      "2\n",
      "3\n"
     ]
    }
   ],
   "source": [
    "\n",
    "## Print Link list\n",
    "class Node:\n",
    "    def __init__(self,value):\n",
    "        self.data=value\n",
    "        self.next=None\n",
    "        \n",
    "def print_ll(head):\n",
    "    temp=head ## make an temproray variable because it increase the reusablilty of head otherwise head just enter none abd cant be use after this\n",
    "    while(temp!=None):\n",
    "        print(temp.data)\n",
    "        temp=temp.next    \n",
    "        \n",
    "    temp=head\n",
    "    while(temp!=None):\n",
    "          print(temp.data)\n",
    "          temp=temp.next \n",
    "    return    \n",
    "        \n",
    "first=Node(1)\n",
    "second=Node(2)\n",
    "Thrid=Node(3)\n",
    "\n",
    "\n",
    "first.next=second\n",
    "\n",
    "second.next=Thrid\n",
    "head=first \n",
    "print_ll(head)\n",
    "\n",
    "##print(Thrid.next.data) ## Always avoid accessing any property on None\n"
   ]
  },
  {
   "cell_type": "code",
   "execution_count": 3,
   "metadata": {},
   "outputs": [
    {
     "name": "stdout",
     "output_type": "stream",
     "text": [
      "10-->20-->30-->30-->\n"
     ]
    }
   ],
   "source": [
    "## Return the head to a newly created LL\n",
    "## Print Link list\n",
    "class Node:\n",
    "    def __init__(self,value):\n",
    "        self.data=value\n",
    "        self.next=None\n",
    "        \n",
    "def print_ll(head):\n",
    "    temp=head ## make an temproray variable because it increase the reusablilty of head otherwise head just enter none abd cant be use after this\n",
    "    while(temp!=None):\n",
    "        print(temp.data,end=\"-->\")\n",
    "        temp=temp.next  \n",
    "        \n",
    "    print()\n",
    "    return\n",
    "\n",
    "def takeinput():\n",
    "    value=int(input(\"Enter the value of node\"))\n",
    "    head=None\n",
    "    \n",
    "    while(value!=-1):\n",
    "        newnode=Node(value)\n",
    "        if(head==None):\n",
    "            head=newnode\n",
    "        else:\n",
    "            temp=head\n",
    "            while(temp.next!=None):\n",
    "                temp=temp.next\n",
    "                \n",
    "            temp.next=newnode\n",
    "            \n",
    "        value=int(input(\"Enter the value of node\"))\n",
    "    return head\n",
    "\n",
    "new_head=takeinput()\n",
    "print_ll(new_head)\n",
    "    "
   ]
  },
  {
   "cell_type": "code",
   "execution_count": 7,
   "metadata": {},
   "outputs": [
    {
     "ename": "TypeError",
     "evalue": "print() got an unexpected keyword argument 'end'",
     "output_type": "error",
     "traceback": [
      "\u001b[1;31m---------------------------------------------------------------------------\u001b[0m",
      "\u001b[1;31mTypeError\u001b[0m                                 Traceback (most recent call last)",
      "Cell \u001b[1;32mIn[7], line 32\u001b[0m\n\u001b[0;32m     29\u001b[0m     \u001b[38;5;28;01mreturn\u001b[39;00m head\n\u001b[0;32m     31\u001b[0m new_head\u001b[38;5;241m=\u001b[39mInput_link()\n\u001b[1;32m---> 32\u001b[0m \u001b[38;5;28;43mprint\u001b[39;49m\u001b[43m(\u001b[49m\u001b[43mnew_head\u001b[49m\u001b[43m)\u001b[49m\n",
      "Cell \u001b[1;32mIn[7], line 9\u001b[0m, in \u001b[0;36mprint\u001b[1;34m(head)\u001b[0m\n\u001b[0;32m      7\u001b[0m temp\u001b[38;5;241m=\u001b[39mhead\n\u001b[0;32m      8\u001b[0m \u001b[38;5;28;01mwhile\u001b[39;00m(temp\u001b[38;5;241m!=\u001b[39m\u001b[38;5;28;01mNone\u001b[39;00m):\n\u001b[1;32m----> 9\u001b[0m     \u001b[38;5;28;43mprint\u001b[39;49m\u001b[43m(\u001b[49m\u001b[43mtemp\u001b[49m\u001b[38;5;241;43m.\u001b[39;49m\u001b[43mdata\u001b[49m\u001b[43m,\u001b[49m\u001b[43mend\u001b[49m\u001b[38;5;241;43m=\u001b[39;49m\u001b[38;5;124;43m\"\u001b[39;49m\u001b[38;5;124;43m\"\u001b[39;49m\u001b[43m)\u001b[49m\n\u001b[0;32m     10\u001b[0m     temp\u001b[38;5;241m=\u001b[39mtemp\u001b[38;5;241m.\u001b[39mnext\n\u001b[0;32m     12\u001b[0m \u001b[38;5;28mprint\u001b[39m(\u001b[38;5;124m\"\u001b[39m\u001b[38;5;124mNone\u001b[39m\u001b[38;5;124m\"\u001b[39m)\n",
      "\u001b[1;31mTypeError\u001b[0m: print() got an unexpected keyword argument 'end'"
     ]
    }
   ],
   "source": [
    "class Link:\n",
    "    def __init__(self,value):\n",
    "        self.data=value\n",
    "        self.next=None\n",
    "        \n",
    "def print(head):\n",
    "    temp=head\n",
    "    while(temp!=None):\n",
    "        print(temp.data,end=\"\")\n",
    "        temp=temp.next\n",
    "            \n",
    "    print(\"None\")\n",
    "    return\n",
    "    \n",
    "def Input_link():\n",
    "    value=int(input(\"Enter the node value\"))\n",
    "    head=None\n",
    "    while(value!=-1):\n",
    "        new=Link(value)\n",
    "        if(head==None):\n",
    "           head=new\n",
    "        else:\n",
    "            temp=head\n",
    "            while(temp.next!=None):\n",
    "                temp=temp.next\n",
    "            temp.next=new\n",
    "                \n",
    "        value=int(input(\"Enter the node\"))\n",
    "    return head\n",
    "    \n",
    "new_head=Input_link()\n",
    "print(new_head)\n",
    "           "
   ]
  },
  {
   "cell_type": "code",
   "execution_count": null,
   "metadata": {},
   "outputs": [],
   "source": []
  },
  {
   "cell_type": "code",
   "execution_count": null,
   "metadata": {},
   "outputs": [],
   "source": []
  }
 ],
 "metadata": {
  "kernelspec": {
   "display_name": "Python 3",
   "language": "python",
   "name": "python3"
  },
  "language_info": {
   "codemirror_mode": {
    "name": "ipython",
    "version": 3
   },
   "file_extension": ".py",
   "mimetype": "text/x-python",
   "name": "python",
   "nbconvert_exporter": "python",
   "pygments_lexer": "ipython3",
   "version": "3.12.0"
  }
 },
 "nbformat": 4,
 "nbformat_minor": 2
}
