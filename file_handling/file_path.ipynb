{
 "cells": [
  {
   "cell_type": "code",
   "execution_count": 1,
   "metadata": {},
   "outputs": [
    {
     "name": "stdout",
     "output_type": "stream",
     "text": [
      "Directory:'package'create\n"
     ]
    }
   ],
   "source": [
    "## creating a new directory\n",
    "new_directory=\"package\"\n",
    "import os\n",
    "os.mkdir(new_directory)\n",
    "print(f\"Directory:'{new_directory}'create\")"
   ]
  },
  {
   "cell_type": "code",
   "execution_count": 2,
   "metadata": {},
   "outputs": [
    {
     "name": "stdout",
     "output_type": "stream",
     "text": [
      "['binary.bin', 'destination.txt', 'example.txt', 'file_operation.ipynb', 'file_path.ipynb', 'package']\n"
     ]
    }
   ],
   "source": [
    "## Listing file and directory\n",
    "items=os.listdir('.')\n",
    "print(items)"
   ]
  },
  {
   "cell_type": "code",
   "execution_count": 3,
   "metadata": {},
   "outputs": [
    {
     "name": "stdout",
     "output_type": "stream",
     "text": [
      "folder\\file.txt\n"
     ]
    }
   ],
   "source": [
    "## Joining paths\n",
    "dir_name=\"folder\"\n",
    "file_nmae=\"file.txt\"\n",
    "file_path=os.path.join(dir_name,file_nmae)\n",
    "print(file_path)"
   ]
  },
  {
   "cell_type": "code",
   "execution_count": 6,
   "metadata": {},
   "outputs": [
    {
     "name": "stdout",
     "output_type": "stream",
     "text": [
      "the path'example1.txt'does not exixts\n"
     ]
    }
   ],
   "source": [
    "path='example1.txt'\n",
    "if os.path.exists(path):\n",
    "    print(f\"the path '{path}'exixts\")\n",
    "else:\n",
    "    print(f\"the path'{path}'does not exixts\")"
   ]
  },
  {
   "cell_type": "code",
   "execution_count": 7,
   "metadata": {},
   "outputs": [
    {
     "name": "stdout",
     "output_type": "stream",
     "text": [
      "the path 'example.txt'is a file\n"
     ]
    }
   ],
   "source": [
    "## checking if a path is a file or directory\n",
    "import os\n",
    "path='example.txt'\n",
    "if os.path.isfile(path):\n",
    "    print(f\"the path '{path}'is a file\")\n",
    "elif os.path.isdir(path):\n",
    "    print(f\"the path '{path}'is a dirctory\")\n",
    "else:\n",
    "    print(f\"the path'{path}' is a neither in a file nor a directory\")"
   ]
  },
  {
   "cell_type": "code",
   "execution_count": 8,
   "metadata": {},
   "outputs": [
    {
     "name": "stdout",
     "output_type": "stream",
     "text": [
      "c:\\Users\\91817\\Desktop\\python\\file_handling\\example.txt\n"
     ]
    }
   ],
   "source": [
    "## Getting the absolute path\n",
    "relative_path='example.txt'\n",
    "absolute_path=os.path.abspath(relative_path)\n",
    "print(absolute_path)"
   ]
  },
  {
   "cell_type": "code",
   "execution_count": null,
   "metadata": {},
   "outputs": [],
   "source": []
  }
 ],
 "metadata": {
  "kernelspec": {
   "display_name": "Python 3",
   "language": "python",
   "name": "python3"
  },
  "language_info": {
   "codemirror_mode": {
    "name": "ipython",
    "version": 3
   },
   "file_extension": ".py",
   "mimetype": "text/x-python",
   "name": "python",
   "nbconvert_exporter": "python",
   "pygments_lexer": "ipython3",
   "version": "3.12.0"
  }
 },
 "nbformat": 4,
 "nbformat_minor": 2
}
