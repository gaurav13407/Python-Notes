{
 "cells": [
  {
   "cell_type": "markdown",
   "metadata": {},
   "source": [
    "#### Concditional Statements(if,else,elif)"
   ]
  },
  {
   "cell_type": "code",
   "execution_count": 1,
   "metadata": {},
   "outputs": [
    {
     "name": "stdout",
     "output_type": "stream",
     "text": [
      "you are alllowed to vote\n"
     ]
    }
   ],
   "source": [
    "## If Statement\n",
    "age=20\n",
    "if age>=18:\n",
    "    print(\"you are alllowed to vote\")"
   ]
  },
  {
   "cell_type": "code",
   "execution_count": 2,
   "metadata": {},
   "outputs": [
    {
     "name": "stdout",
     "output_type": "stream",
     "text": [
      "you are not allowed to vote\n"
     ]
    }
   ],
   "source": [
    "## else\n",
    "## The else Statements exceute a block of code if the condition in the statement is false.\n",
    "age=16\n",
    "if age>=18:\n",
    "    print(\"you are allwoed for vote\")\n",
    "else:\n",
    "    print(\"you are not allowed to vote\")"
   ]
  },
  {
   "cell_type": "code",
   "execution_count": 5,
   "metadata": {},
   "outputs": [
    {
     "name": "stdout",
     "output_type": "stream",
     "text": [
      "you are a child\n"
     ]
    }
   ],
   "source": [
    "## elif\n",
    "## The elif Statment allows you to check multiple condition.It stands for\"else if\".\n",
    "\n",
    "age=10\n",
    "if age<12:\n",
    "    print(\"you are a child\")\n",
    "elif age<18:\n",
    "    print(\"you are a tennager\")\n",
    "else:\n",
    "    print(\"you are an adult\")"
   ]
  },
  {
   "cell_type": "code",
   "execution_count": 13,
   "metadata": {},
   "outputs": [
    {
     "name": "stdout",
     "output_type": "stream",
     "text": [
      "the number is negative\n"
     ]
    }
   ],
   "source": [
    "##Nested conditional Statements\n",
    "##You can place one or more if,else,elif or else statements inside another if,elif,or else statements to create nested conditional statements.\n",
    "\n",
    "## number even,odd,negative\n",
    "num=int(input(\"enter the number\"))\n",
    "if num>=0:\n",
    "    print(\"number is positive\")\n",
    "    if num%2==0:\n",
    "        print(\"number is even\")\n",
    "    else :\n",
    "        print(\"number is odd\")\n",
    "else :\n",
    "    print(\"the number is negative\")"
   ]
  },
  {
   "cell_type": "code",
   "execution_count": 17,
   "metadata": {},
   "outputs": [
    {
     "name": "stdout",
     "output_type": "stream",
     "text": [
      "year is a leap year\n"
     ]
    }
   ],
   "source": [
    "## Practical Examples\n",
    "##Determine if a year is leap year using nested condition statement\n",
    "year=int(input(\"enter the year\"))\n",
    "if year%4==0:\n",
    "    if year%100==0:\n",
    "        if year%400==0:\n",
    "            print(\"this year is leap year:\")\n",
    "        else:\n",
    "            print(\"this year not  a leap year\")\n",
    "    else:\n",
    "        print(\"year is a leap year\")\n",
    "else:\n",
    "    print(\"this year not a leap year\")"
   ]
  },
  {
   "cell_type": "code",
   "execution_count": 23,
   "metadata": {},
   "outputs": [
    {
     "name": "stdout",
     "output_type": "stream",
     "text": [
      "enter the operation'+','-','/','*':\n",
      "subtraction is: 12\n"
     ]
    }
   ],
   "source": [
    "## Assignment\n",
    "num1=int(input(\"enter the number 1:\"))\n",
    "num2=int(input(\"enter the number 2:\"))\n",
    "print(\"enter the operation'+','-','/','*':\")\n",
    "ope=input(\"enter the operatoion:\")\n",
    "if ope=='+':\n",
    "    print(\"sum is:\",num1+num2)\n",
    "elif ope=='-':\n",
    "    print(\"subtraction is:\",num1-num2)\n",
    "elif ope=='*':\n",
    "    print(\"multiply is:\",num1*num2)\n",
    "elif ope=='/':\n",
    "    if num2==0:\n",
    "        print(\"cant divisible by zero\")\n",
    "    else:\n",
    "        print(\"divide is:\",num1/num2)\n",
    "else:\n",
    "    print(\"invalid operation\")"
   ]
  },
  {
   "cell_type": "code",
   "execution_count": 30,
   "metadata": {},
   "outputs": [
    {
     "name": "stdout",
     "output_type": "stream",
     "text": [
      "price=free\n"
     ]
    }
   ],
   "source": [
    "## determine the ticket price based on age and whether the person is student.\n",
    "age=int(input(\"enter your age\"))\n",
    "is_student=input(\"are you a student?(yes/no):\").lower()\n",
    "#detrmine ticket price\n",
    "if age<5:\n",
    "    print(\"price=free\")\n",
    "elif age<=12:\n",
    "    print(\"price=$10\")\n",
    "elif age<=17:\n",
    "    if is_student==\"yes\":\n",
    "        print(\"price=$12\")\n",
    "    else:\n",
    "        print(\"price=$15\")\n",
    "elif age<=64:\n",
    "    if is_student==\"yes\":\n",
    "        print(\"price=$18\")\n",
    "    else :\n",
    "        print(\"price=$25\")\n",
    "else:\n",
    "    print(\"you are dead by now why are you taking flight ticket now\")\n"
   ]
  },
  {
   "cell_type": "code",
   "execution_count": 1,
   "metadata": {},
   "outputs": [
    {
     "name": "stdout",
     "output_type": "stream",
     "text": [
      "number is even\n"
     ]
    }
   ],
   "source": [
    "num=int(input(\"enter the number:\"))\n",
    "if num%2==0:\n",
    "    print(\"number is even\")\n",
    "else :\n",
    "    print(\"number is odd\")    \n"
   ]
  }
 ],
 "metadata": {
  "kernelspec": {
   "display_name": "Python 3",
   "language": "python",
   "name": "python3"
  },
  "language_info": {
   "codemirror_mode": {
    "name": "ipython",
    "version": 3
   },
   "file_extension": ".py",
   "mimetype": "text/x-python",
   "name": "python",
   "nbconvert_exporter": "python",
   "pygments_lexer": "ipython3",
   "version": "3.12.0"
  }
 },
 "nbformat": 4,
 "nbformat_minor": 2
}
