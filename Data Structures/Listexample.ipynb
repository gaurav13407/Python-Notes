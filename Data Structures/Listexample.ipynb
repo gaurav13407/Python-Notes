{
 "cells": [
  {
   "cell_type": "markdown",
   "metadata": {},
   "source": [
    "#### Real-World Example Using Lists In Python\n",
    "\n",
    "Lits are one of the most commonly used data structure in python, thanks to their versatility and ease of use.Here are several practicle example that illustrate their use in real-world scenarios."
   ]
  },
  {
   "cell_type": "markdown",
   "metadata": {},
   "source": [
    "## Example 1.Manage A To Do List\n",
    "\n",
    " Create a To Do List To Keep Track OF Tasks"
   ]
  },
  {
   "cell_type": "code",
   "execution_count": 3,
   "metadata": {},
   "outputs": [
    {
     "name": "stdout",
     "output_type": "stream",
     "text": [
      "dont forget to pay the utility bill \n",
      "to_do_list_reanaing\n",
      "-buy groceries\n",
      "-pay bills\n",
      "-schedule meeting\n",
      "-Go for a run\n"
     ]
    }
   ],
   "source": [
    "to_do_list=[\"buy groceries\",\"Clean the hosue\",\"pay bills\"]\n",
    "\n",
    "## adding to task\n",
    "to_do_list.append(\"schedule meeting\")\n",
    "to_do_list.append(\"Go for a run\")\n",
    "\n",
    "## Removing  a completed task\n",
    "to_do_list.remove(\"Clean the hosue\")\n",
    "\n",
    "## Checking if a task in the list\n",
    "if \"pay bills\" in to_do_list:\n",
    "    print(\"dont forget to pay the utility bill \")\n",
    "    \n",
    "print(\"to_do_list_reanaing\")\n",
    "for task in to_do_list:\n",
    "     print(f\"-{task}\")"
   ]
  },
  {
   "cell_type": "markdown",
   "metadata": {},
   "source": [
    "## Example 2:Organizing Student Grade\n",
    "\n",
    "Create a List to Store and calculate average grade for srudents"
   ]
  },
  {
   "cell_type": "code",
   "execution_count": 4,
   "metadata": {},
   "outputs": [
    {
     "name": "stdout",
     "output_type": "stream",
     "text": [
      "average grade:88.00\n",
      "highest grade:95\n",
      "lowest grade:78\n"
     ]
    }
   ],
   "source": [
    "## Organizie Students grade\n",
    "grade=[85,92,78,90,88]\n",
    "##adding a new grade\n",
    "grade.append(95)\n",
    "## Calculating the average grade\n",
    "average_grade=sum(grade)/len(grade)\n",
    "print(f\"average grade:{average_grade:.2f}\")\n",
    "\n",
    "## Finding the highest and lowest grades\n",
    "highest_grade=max(grade)\n",
    "lowest_grade=min(grade)\n",
    "print(f\"highest grade:{highest_grade}\")\n",
    "print(f\"lowest grade:{lowest_grade}\")"
   ]
  },
  {
   "cell_type": "markdown",
   "metadata": {},
   "source": [
    "## Example 3: Managing An Inventory\n",
    "-Use a list to manage inventory items in store"
   ]
  },
  {
   "cell_type": "code",
   "execution_count": 6,
   "metadata": {},
   "outputs": [
    {
     "name": "stdout",
     "output_type": "stream",
     "text": [
      "oranges are in stocks\n",
      "Inventory list:\n",
      "apples\n",
      "oranges\n",
      "grapes\n",
      "strawberries\n"
     ]
    }
   ],
   "source": [
    "## Managing an inventory\n",
    "Inventory=[\"apples\",\"bananas\",\"oranges\",\"grapes\"]\n",
    "\n",
    "## Adding a new item\n",
    "Inventory.append(\"strawberries\")\n",
    "\n",
    "## Removing an item that is out of stocks\n",
    "Inventory.remove(\"bananas\")\n",
    "\n",
    "##Checking if an item is in stock\n",
    "items=\"oranges\"\n",
    "if items in Inventory:\n",
    "    print(f\"{items} are in stocks\")\n",
    "else:\n",
    "    print(f\"{items} are out of stock.\")\n",
    "    \n",
    "## Printing the inventory\n",
    "print(\"Inventory list:\")\n",
    "for items in Inventory:\n",
    "    print(f\"{items}\")"
   ]
  },
  {
   "cell_type": "markdown",
   "metadata": {},
   "source": [
    "## Example 4:Collecting User Feedback\n",
    "-Use a list to collect and analyze user feedback"
   ]
  },
  {
   "cell_type": "code",
   "execution_count": 8,
   "metadata": {},
   "outputs": [
    {
     "name": "stdout",
     "output_type": "stream",
     "text": [
      "positive_feedback:2\n",
      "User Feedback:\n",
      "-Great service!\n",
      "-Very satisfied\n",
      "-could be better\n",
      "-Excellent experience\n",
      "-Not happy with the service\n"
     ]
    }
   ],
   "source": [
    "## Collecting user Feedback\n",
    "feedback=[\"Great service!\",\"Very satisfied\",\"could be better\",\"Excellent experience\"]\n",
    "\n",
    "## adding new feedback\n",
    "feedback.append(\"Not happy with the service\")\n",
    "\n",
    "##counting specific feedback\n",
    "positive_feedback=sum(1 for comment in feedback if \"great\" in comment.lower()or \"excellent\" in comment.lower())\n",
    "print(f\"positive_feedback:{positive_feedback}\")\n",
    "\n",
    "## Printing all feedback\n",
    "print(\"User Feedback:\")\n",
    "for comment in feedback:\n",
    "    print(f\"-{comment}\")"
   ]
  }
 ],
 "metadata": {
  "kernelspec": {
   "display_name": "Python 3",
   "language": "python",
   "name": "python3"
  },
  "language_info": {
   "codemirror_mode": {
    "name": "ipython",
    "version": 3
   },
   "file_extension": ".py",
   "mimetype": "text/x-python",
   "name": "python",
   "nbconvert_exporter": "python",
   "pygments_lexer": "ipython3",
   "version": "3.12.0"
  }
 },
 "nbformat": 4,
 "nbformat_minor": 2
}
