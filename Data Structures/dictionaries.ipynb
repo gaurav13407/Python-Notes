{
 "cells": [
  {
   "cell_type": "markdown",
   "metadata": {},
   "source": [
    "#### Dictionaries"
   ]
  },
  {
   "cell_type": "markdown",
   "metadata": {},
   "source": [
    "#### Introduction to Dictionaries"
   ]
  },
  {
   "cell_type": "markdown",
   "metadata": {},
   "source": [
    "Dictionaries are unordered collection of items. They store data in key-values pairs.Keys must be unique and immutable (e.g.strings,number,or tuples),while value can be of any type.\n"
   ]
  },
  {
   "cell_type": "code",
   "execution_count": 66,
   "metadata": {},
   "outputs": [
    {
     "name": "stdout",
     "output_type": "stream",
     "text": [
      "<class 'dict'>\n"
     ]
    }
   ],
   "source": [
    "## Creating Dicitionaries\n",
    "empty_dict={}\n",
    "print(type(empty_dict))"
   ]
  },
  {
   "cell_type": "code",
   "execution_count": 67,
   "metadata": {},
   "outputs": [
    {
     "data": {
      "text/plain": [
       "{}"
      ]
     },
     "execution_count": 67,
     "metadata": {},
     "output_type": "execute_result"
    }
   ],
   "source": [
    "empty_dict=dict()\n",
    "empty_dict"
   ]
  },
  {
   "cell_type": "code",
   "execution_count": 68,
   "metadata": {},
   "outputs": [
    {
     "name": "stdout",
     "output_type": "stream",
     "text": [
      "{'name': 'gaurav', 'age': 32, 'grade': 24}\n",
      "<class 'dict'>\n"
     ]
    }
   ],
   "source": [
    "students={\"name\":\"gaurav\",\"age\":32,\"grade\":24}\n",
    "print(students)\n",
    "print(type(students))"
   ]
  },
  {
   "cell_type": "code",
   "execution_count": 69,
   "metadata": {},
   "outputs": [
    {
     "name": "stdout",
     "output_type": "stream",
     "text": [
      "{'name': 24, 'age': 32}\n"
     ]
    }
   ],
   "source": [
    "##Single key always used\n",
    "students={\"name\":\"gaurav\",\"age\":32,\"name\":24}\n",
    "print(students)"
   ]
  },
  {
   "cell_type": "code",
   "execution_count": 70,
   "metadata": {},
   "outputs": [
    {
     "name": "stdout",
     "output_type": "stream",
     "text": [
      "{'name': 'gaurav', 'age': 32, 'grade': 'A'}\n"
     ]
    }
   ],
   "source": [
    "## Accessing Dicitionary Elements\n",
    "students={\"name\":\"gaurav\",\"age\":32,\"grade\":'A'}\n",
    "print(students)"
   ]
  },
  {
   "cell_type": "code",
   "execution_count": 71,
   "metadata": {},
   "outputs": [
    {
     "name": "stdout",
     "output_type": "stream",
     "text": [
      "A\n",
      "32\n",
      "gaurav\n",
      "A\n",
      "None\n",
      "Not available\n"
     ]
    }
   ],
   "source": [
    "print(students['grade'])\n",
    "print(students['age'])\n",
    "print(students['name'])\n",
    "\n",
    "##Accessing using get() Method\n",
    "print(students.get('grade'))\n",
    "print(students.get('last_name'))\n",
    "print(students.get('last_name',\"Not available\"))"
   ]
  },
  {
   "cell_type": "code",
   "execution_count": 72,
   "metadata": {},
   "outputs": [
    {
     "name": "stdout",
     "output_type": "stream",
     "text": [
      "{'name': 'gaurav', 'age': 32, 'grade': 'A'}\n"
     ]
    }
   ],
   "source": [
    "## Modifying Dictionary Elements\n",
    "## Dictionary are mutable,so you can add update and delete elements.\n",
    "print(students)"
   ]
  },
  {
   "cell_type": "code",
   "execution_count": 73,
   "metadata": {},
   "outputs": [
    {
     "name": "stdout",
     "output_type": "stream",
     "text": [
      "{'name': 'gaurav', 'age': 33, 'grade': 'A'}\n",
      "{'name': 'gaurav', 'age': 33, 'grade': 'A', 'addres': 'india'}\n"
     ]
    }
   ],
   "source": [
    "## Updated the value for the key\n",
    "students['age']=33\n",
    "print(students)\n",
    "## added the new key and value\n",
    "students['addres']=\"india\"\n",
    "print(students)"
   ]
  },
  {
   "cell_type": "code",
   "execution_count": 74,
   "metadata": {},
   "outputs": [
    {
     "name": "stdout",
     "output_type": "stream",
     "text": [
      "{'name': 'gaurav', 'age': 33, 'addres': 'india'}\n"
     ]
    }
   ],
   "source": [
    "## delete the key\n",
    "del students['grade']##delete key and value pair\n",
    "print(students)"
   ]
  },
  {
   "cell_type": "code",
   "execution_count": 75,
   "metadata": {},
   "outputs": [
    {
     "name": "stdout",
     "output_type": "stream",
     "text": [
      "dict_keys(['name', 'age', 'addres'])\n",
      "dict_values(['gaurav', 33, 'india'])\n",
      "dict_items([('name', 'gaurav'), ('age', 33), ('addres', 'india')])\n"
     ]
    }
   ],
   "source": [
    "## Dicitionary methods\n",
    "keys=students.keys()## get all the keys\n",
    "print(keys)\n",
    "values=students.values()## get all the values\n",
    "print(values)\n",
    "\n",
    "items=students.items()## get all key value pair\n",
    "print(items)"
   ]
  },
  {
   "cell_type": "code",
   "execution_count": 76,
   "metadata": {},
   "outputs": [
    {
     "name": "stdout",
     "output_type": "stream",
     "text": [
      "{'name': 'gaurav', 'age': 33, 'addres': 'india'}\n",
      "{'name': 'gaurav', 'age': 33, 'addres': 'india'}\n"
     ]
    }
   ],
   "source": [
    "## Shallow Copy\n",
    "students_copy=students\n",
    "print(students)\n",
    "print(students_copy)"
   ]
  },
  {
   "cell_type": "code",
   "execution_count": 77,
   "metadata": {},
   "outputs": [
    {
     "name": "stdout",
     "output_type": "stream",
     "text": [
      "{'name': 'krish', 'age': 33, 'addres': 'india'}\n",
      "{'name': 'krish', 'age': 33, 'addres': 'india'}\n"
     ]
    }
   ],
   "source": [
    "students[\"name\"]=\"krish\"\n",
    "print(students)\n",
    "print(students_copy)"
   ]
  },
  {
   "cell_type": "code",
   "execution_count": 78,
   "metadata": {},
   "outputs": [
    {
     "name": "stdout",
     "output_type": "stream",
     "text": [
      "{'name': 'krish', 'age': 33, 'addres': 'india'}\n",
      "{'name': 'krish', 'age': 33, 'addres': 'india'}\n"
     ]
    }
   ],
   "source": [
    "student_copy1=students.copy()## shallow copy\n",
    "print(student_copy1)\n",
    "print(students)"
   ]
  },
  {
   "cell_type": "code",
   "execution_count": 79,
   "metadata": {},
   "outputs": [
    {
     "name": "stdout",
     "output_type": "stream",
     "text": [
      "{'name': 'krish', 'age': 33, 'addres': 'india'}\n",
      "{'name': 'krish1', 'age': 33, 'addres': 'india'}\n"
     ]
    }
   ],
   "source": [
    "students[\"name\"]=\"krish1\"\n",
    "print(student_copy1)\n",
    "print(students)"
   ]
  },
  {
   "cell_type": "code",
   "execution_count": 80,
   "metadata": {},
   "outputs": [
    {
     "name": "stdout",
     "output_type": "stream",
     "text": [
      "name\n",
      "age\n",
      "addres\n"
     ]
    }
   ],
   "source": [
    "### Iterating over dictionaries\n",
    "## you can use loop to iterate over dictionaries,keys,value or items\n",
    " ## Iterating over the keys\n",
    "for keys in students.keys():\n",
    "     print(keys)\n"
   ]
  },
  {
   "cell_type": "code",
   "execution_count": 81,
   "metadata": {},
   "outputs": [
    {
     "name": "stdout",
     "output_type": "stream",
     "text": [
      "krish1\n",
      "33\n",
      "india\n"
     ]
    }
   ],
   "source": [
    "## Iterate over values\n",
    "for value in students.values():\n",
    "     print(value)"
   ]
  },
  {
   "cell_type": "code",
   "execution_count": 82,
   "metadata": {},
   "outputs": [
    {
     "name": "stdout",
     "output_type": "stream",
     "text": [
      "name:krish1\n",
      "age:33\n",
      "addres:india\n"
     ]
    }
   ],
   "source": [
    "## Iterate over key value pairs\n",
    "for key,value in students.items():\n",
    "    print(f\"{key}:{value}\")"
   ]
  },
  {
   "cell_type": "code",
   "execution_count": 83,
   "metadata": {},
   "outputs": [
    {
     "name": "stdout",
     "output_type": "stream",
     "text": [
      "{'student1': {'name': 'gaurav', 'age': 32}, 'student2': {'name': 'peter', 'age': 35}}\n"
     ]
    }
   ],
   "source": [
    "## nested disctionaries\n",
    "students={\n",
    "    \"student1\":{\"name\":\"gaurav\",\"age\":32},\n",
    "    \"student2\":{\"name\":\"peter\",\"age\":35}\n",
    "}\n",
    "print(students)"
   ]
  },
  {
   "cell_type": "code",
   "execution_count": 84,
   "metadata": {},
   "outputs": [
    {
     "name": "stdout",
     "output_type": "stream",
     "text": [
      "peter\n",
      "35\n"
     ]
    }
   ],
   "source": [
    "## Access nested dictionaries elements\n",
    "print(students[\"student2\"][\"name\"])\n",
    "print(students[\"student2\"][\"age\"])"
   ]
  },
  {
   "cell_type": "code",
   "execution_count": 85,
   "metadata": {},
   "outputs": [
    {
     "data": {
      "text/plain": [
       "dict_items([('student1', {'name': 'gaurav', 'age': 32}), ('student2', {'name': 'peter', 'age': 35})])"
      ]
     },
     "execution_count": 85,
     "metadata": {},
     "output_type": "execute_result"
    }
   ],
   "source": [
    "students.items()"
   ]
  },
  {
   "cell_type": "code",
   "execution_count": 86,
   "metadata": {},
   "outputs": [
    {
     "name": "stdout",
     "output_type": "stream",
     "text": [
      "student1:{'name': 'gaurav', 'age': 32}\n",
      "name:gaurav\n",
      "age:32\n",
      "student2:{'name': 'peter', 'age': 35}\n",
      "name:peter\n",
      "age:35\n"
     ]
    }
   ],
   "source": [
    "## Iterating over nested dictionaries\n",
    "for students_id,student_info in students.items():\n",
    "    print(f\"{students_id}:{student_info}\")\n",
    "    for key,value in student_info.items():\n",
    "        print(f\"{key}:{value}\")"
   ]
  },
  {
   "cell_type": "code",
   "execution_count": 87,
   "metadata": {},
   "outputs": [
    {
     "name": "stdout",
     "output_type": "stream",
     "text": [
      "{0: 0, 1: 1, 2: 4, 3: 9, 4: 16}\n"
     ]
    }
   ],
   "source": [
    "## Dictionary Comphrehension\n",
    "squares={x:x**2 for x in range(5)}\n",
    "print(squares)"
   ]
  },
  {
   "cell_type": "code",
   "execution_count": 88,
   "metadata": {},
   "outputs": [
    {
     "name": "stdout",
     "output_type": "stream",
     "text": [
      "{0: 0, 2: 4, 4: 16, 6: 36, 8: 64}\n"
     ]
    }
   ],
   "source": [
    "## conditional dictionary comprehension\n",
    "even={x:x**2 for x in range(10)if x%2==0}\n",
    "print(even)"
   ]
  },
  {
   "cell_type": "code",
   "execution_count": 89,
   "metadata": {},
   "outputs": [
    {
     "name": "stdout",
     "output_type": "stream",
     "text": [
      "{1: 1, 2: 1, 3: 1, 4: 1}\n"
     ]
    }
   ],
   "source": [
    "## Practicle Examples\n",
    "\n",
    "##use a dictionary to count the frequency of elements in list\n",
    "numbers={1,2,2,3,3,3,4,4,4,4}\n",
    "frequency={}\n",
    "for number in numbers:\n",
    "    if number in frequency:\n",
    "        frequency[number]+=1\n",
    "    else:\n",
    "        frequency[number]=1\n",
    "print(frequency)"
   ]
  },
  {
   "cell_type": "code",
   "execution_count": 8,
   "metadata": {},
   "outputs": [
    {
     "name": "stdout",
     "output_type": "stream",
     "text": [
      "{'a': 1, 'b': 3, 'c': 4}\n"
     ]
    }
   ],
   "source": [
    "## Merge 2 dictionaries into one\n",
    "dict1={\"a\":1,\"b\":2}\n",
    "dict2={\"b\":3,\"c\":4}\n",
    "merged_dict={**dict1,**dict2}\n",
    "print(merged_dict)"
   ]
  },
  {
   "cell_type": "code",
   "execution_count": null,
   "metadata": {},
   "outputs": [
    {
     "name": "stdout",
     "output_type": "stream",
     "text": [
      "{1, 2, 3, 4, 5}\n"
     ]
    }
   ],
   "source": [
    "\n",
    "dict={1,2,3,4,5}\n",
    "print(dict)\n",
    "typ\n"
   ]
  }
 ],
 "metadata": {
  "kernelspec": {
   "display_name": "Python 3",
   "language": "python",
   "name": "python3"
  },
  "language_info": {
   "codemirror_mode": {
    "name": "ipython",
    "version": 3
   },
   "file_extension": ".py",
   "mimetype": "text/x-python",
   "name": "python",
   "nbconvert_exporter": "python",
   "pygments_lexer": "ipython3",
   "version": "3.12.0"
  }
 },
 "nbformat": 4,
 "nbformat_minor": 2
}
