{
 "cells": [
  {
   "cell_type": "markdown",
   "metadata": {},
   "source": [
    "## Polymorphism\n",
    "\n",
    "Polymorphism is a core concept in Object-Oriented Programming (OOP) that allows objects of different classes to be treated as object of a common superclass.It provide a way to perform a single action in different forms.Polymorphism is typically achieved through method overiding and interfaces"
   ]
  },
  {
   "cell_type": "markdown",
   "metadata": {},
   "source": [
    "### Method Overriding\n",
    "\n",
    "Method overriding allows a child class to provide a specific implentation of a method that is already defined in its parent class. "
   ]
  },
  {
   "cell_type": "code",
   "execution_count": 2,
   "metadata": {},
   "outputs": [
    {
     "name": "stdout",
     "output_type": "stream",
     "text": [
      "woof!\n",
      "meow\n",
      "woof!\n"
     ]
    }
   ],
   "source": [
    "## Base class\n",
    "class Animal:\n",
    "    def speak(self):\n",
    "        return \"sound of the animal\"\n",
    "    \n",
    "## Derive class 1\n",
    "class Dog(Animal):\n",
    "    def speak(self):\n",
    "        return \"woof!\"\n",
    "    \n",
    "## Derive class\n",
    "class Cat(Animal):\n",
    "    def speak(self):\n",
    "        return \"meow\"\n",
    "    \n",
    "## Function that demonstrate polymorphism\n",
    "def animal_speak(Animal):\n",
    "    print(Animal.speak())\n",
    "    \n",
    "dog=Dog()\n",
    "cat=Cat()\n",
    "print(dog.speak())\n",
    "print(cat.speak())\n",
    "animal_speak(dog)"
   ]
  },
  {
   "cell_type": "code",
   "execution_count": 4,
   "metadata": {},
   "outputs": [
    {
     "name": "stdout",
     "output_type": "stream",
     "text": [
      "the area is20\n",
      "the area is28.259999999999998\n"
     ]
    }
   ],
   "source": [
    "## Polymorphism with function and methods\n",
    "## Base class \n",
    "class Shape:\n",
    "    def area(self):\n",
    "        return \"the area of the figure\"\n",
    "    \n",
    "## Derive class 1\n",
    "class Rectangle(Shape):\n",
    "    def __init__(self,width,height):\n",
    "        self.width=width\n",
    "        self.height=height\n",
    "        \n",
    "    def area(self):\n",
    "        return self.width*self.height\n",
    "    \n",
    "## Derive class\n",
    "\n",
    "class Circle(Shape):\n",
    "    def __init__(self,raduis):\n",
    "        self.radius=raduis\n",
    "        \n",
    "    def area(self):\n",
    "        return 3.14*self.radius*self.radius\n",
    "    \n",
    "## Function that demonstrate polymorphism\n",
    "\n",
    "def print_area(Shape):\n",
    "    print(f\"the area is{Shape.area()}\")\n",
    "    \n",
    "rectangle=Rectangle(4,5)\n",
    "circle=Circle(3)\n",
    "\n",
    "print_area(rectangle)\n",
    "print_area(circle)"
   ]
  },
  {
   "cell_type": "markdown",
   "metadata": {},
   "source": [
    "## Polymorphism with abstract base classes\n",
    "\n",
    "Abstract Base Class (ABCs) are used to define common methods for a group of related objects.They can enforce that derived classes implement particular methods,promoting consistency across different implentations."
   ]
  },
  {
   "cell_type": "code",
   "execution_count": 5,
   "metadata": {},
   "outputs": [
    {
     "name": "stdout",
     "output_type": "stream",
     "text": [
      "Car engine started\n"
     ]
    }
   ],
   "source": [
    "from abc import ABC,abstractmethod\n",
    "\n",
    "## Define a abstract class\n",
    "\n",
    "class Vehicle(ABC):\n",
    "    @abstractmethod\n",
    "    def start_engine(self):\n",
    "        pass\n",
    "    \n",
    "## Derive class 1\n",
    "class Car(Vehicle):\n",
    "    def start_engine(self):\n",
    "        return \"Car engine started\"\n",
    "    \n",
    "## Dervied class 2\n",
    "class Motercycle(Vehicle):\n",
    "    def start_engine(self):\n",
    "        return \"motercyle engine started\"\n",
    "    \n",
    "## Function that derive polymorphism\n",
    "def start_vehicle(Vehicle):\n",
    "    print(Vehicle.start_engine())\n",
    "    \n",
    "##Create  object of car and motercycle\n",
    "car=Car()\n",
    "motercycle=Motercycle()\n",
    "\n",
    "start_vehicle(car)"
   ]
  },
  {
   "cell_type": "code",
   "execution_count": null,
   "metadata": {},
   "outputs": [],
   "source": []
  }
 ],
 "metadata": {
  "kernelspec": {
   "display_name": "Python 3",
   "language": "python",
   "name": "python3"
  },
  "language_info": {
   "codemirror_mode": {
    "name": "ipython",
    "version": 3
   },
   "file_extension": ".py",
   "mimetype": "text/x-python",
   "name": "python",
   "nbconvert_exporter": "python",
   "pygments_lexer": "ipython3",
   "version": "3.12.0"
  }
 },
 "nbformat": 4,
 "nbformat_minor": 2
}
