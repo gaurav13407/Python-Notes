{
 "cells": [
  {
   "cell_type": "markdown",
   "metadata": {},
   "source": [
    "## Custom List"
   ]
  },
  {
   "cell_type": "code",
   "execution_count": 2,
   "metadata": {},
   "outputs": [
    {
     "name": "stdout",
     "output_type": "stream",
     "text": [
      "Intial size: 56\n",
      "0-->88\n",
      "1-->88\n",
      "2-->88\n",
      "3-->88\n",
      "4-->120\n",
      "5-->120\n",
      "6-->120\n",
      "7-->120\n",
      "8-->184\n",
      "9-->184\n",
      "10-->184\n",
      "11-->184\n",
      "12-->184\n",
      "13-->184\n",
      "14-->184\n",
      "15-->184\n",
      "16-->248\n"
     ]
    }
   ],
   "source": [
    "import sys\n",
    "\n",
    "l1=[]\n",
    "\n",
    "print(\"Intial size:\",sys.getsizeof(l1))\n",
    "\n",
    "for i in range(0,17):\n",
    "    l1.append(i)\n",
    "    print(f\"{i}-->{sys.getsizeof(l1)}\")"
   ]
  },
  {
   "cell_type": "code",
   "execution_count": 7,
   "metadata": {},
   "outputs": [
    {
     "name": "stdout",
     "output_type": "stream",
     "text": [
      "140715804150200\n",
      "140715804150200\n",
      "140715804150168\n"
     ]
    }
   ],
   "source": [
    "a=1\n",
    "\n",
    "l1.append(1)\n",
    "print(id(1))\n",
    "a=1\n",
    "print(id(a))\n",
    "print(id(l1[0]))"
   ]
  },
  {
   "cell_type": "markdown",
   "metadata": {},
   "source": [
    "#### Implementaion of custom list"
   ]
  },
  {
   "cell_type": "code",
   "execution_count": 13,
   "metadata": {},
   "outputs": [
    {
     "name": "stdout",
     "output_type": "stream",
     "text": [
      "[1,2]\n",
      "2\n"
     ]
    }
   ],
   "source": [
    "import ctypes\n",
    "class CustomList:\n",
    "    def __init__(self):\n",
    "        initialCapacity=1\n",
    "        self.capacity=initialCapacity\n",
    "        self.size=0\n",
    "        self.array=self.__create_array(self.capacity)\n",
    "        \n",
    "    def __create_array(self,capacity):\n",
    "        # Create a new referential array with given capacity\n",
    "        return (capacity*ctypes.py_object)()\n",
    "    \n",
    "    def __resize(self,new_capacity):\n",
    "        new_array=self.__create_array(new_capacity)\n",
    "        for i in range(self.size):\n",
    "            new_array[i]=self.array[i]\n",
    "            \n",
    "        self.array=new_array## REplace the old array\n",
    "        self.capacity=new_capacity\n",
    "        \n",
    "    def append(self,item):\n",
    "        if(self.size==self.capacity):\n",
    "            self.__resize(2*self.capacity)\n",
    "            \n",
    "        self.array[self.size]=item\n",
    "        self.size+=1 \n",
    "        \n",
    "    def __len__(self):\n",
    "        return self.size\n",
    "    \n",
    "    def __str__(self):\n",
    "        output=''\n",
    "        for i in range(self.size):\n",
    "            output=output+str(self.array[i])+','\n",
    "            \n",
    "        return '['+output[:-1]+']'\n",
    "my_list=CustomList()\n",
    "my_list.append(1)\n",
    "my_list.append(2)\n",
    "print(my_list)\n",
    "print(len(my_list))\n"
   ]
  },
  {
   "cell_type": "code",
   "execution_count": null,
   "metadata": {},
   "outputs": [],
   "source": []
  }
 ],
 "metadata": {
  "kernelspec": {
   "display_name": "Python 3",
   "language": "python",
   "name": "python3"
  },
  "language_info": {
   "codemirror_mode": {
    "name": "ipython",
    "version": 3
   },
   "file_extension": ".py",
   "mimetype": "text/x-python",
   "name": "python",
   "nbconvert_exporter": "python",
   "pygments_lexer": "ipython3",
   "version": "3.12.0"
  }
 },
 "nbformat": 4,
 "nbformat_minor": 2
}
