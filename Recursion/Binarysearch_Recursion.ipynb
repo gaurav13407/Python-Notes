{
 "cells": [
  {
   "cell_type": "markdown",
   "metadata": {},
   "source": [
    "## Binary Serach Using Recursion"
   ]
  },
  {
   "cell_type": "code",
   "execution_count": 2,
   "metadata": {},
   "outputs": [
    {
     "name": "stdout",
     "output_type": "stream",
     "text": [
      "False\n"
     ]
    }
   ],
   "source": [
    "def Binarysearchhelper(l1,x,s,e):\n",
    "    if(s>e):\n",
    "        return False\n",
    "    m=s+(e-s)//2\n",
    "    if(l1[m]==x):\n",
    "        return True\n",
    "    \n",
    "    if(x>l1[m]):\n",
    "        return Binarysearchhelper(l1,x,m+1,e)\n",
    "    \n",
    "    return Binarysearchhelper(l1,x,s,m-1)\n",
    "\n",
    "def Binarysearch(l1,x):\n",
    "    return Binarysearchhelper(l1,x,0,len(l1)-1)\n",
    "\n",
    "ans=Binarysearch([1,2,3,4,5,6,7],100)\n",
    "print(ans)"
   ]
  },
  {
   "cell_type": "code",
   "execution_count": null,
   "metadata": {},
   "outputs": [],
   "source": []
  }
 ],
 "metadata": {
  "kernelspec": {
   "display_name": "Python 3",
   "language": "python",
   "name": "python3"
  },
  "language_info": {
   "codemirror_mode": {
    "name": "ipython",
    "version": 3
   },
   "file_extension": ".py",
   "mimetype": "text/x-python",
   "name": "python",
   "nbconvert_exporter": "python",
   "pygments_lexer": "ipython3",
   "version": "3.12.0"
  }
 },
 "nbformat": 4,
 "nbformat_minor": 2
}
