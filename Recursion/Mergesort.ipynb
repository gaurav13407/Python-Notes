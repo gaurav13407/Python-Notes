{
 "cells": [
  {
   "cell_type": "markdown",
   "metadata": {},
   "source": [
    "## Merge Short"
   ]
  },
  {
   "cell_type": "code",
   "execution_count": 7,
   "metadata": {},
   "outputs": [
    {
     "name": "stdout",
     "output_type": "stream",
     "text": [
      "[1, 2, 3, 4, 4, 6, 10]\n"
     ]
    }
   ],
   "source": [
    "def Merge(l1,s,m,e):\n",
    "    i=s\n",
    "    j=m+1\n",
    "    \n",
    "    ans=[]\n",
    "    \n",
    "    while(i<=m and j<=e):\n",
    "        if(l1[i]<l1[j]):\n",
    "            ans.append(l1[i])\n",
    "            i+=1\n",
    "        elif(l1[i]>l1[j]):\n",
    "            ans.append(l1[j])\n",
    "            j+=1\n",
    "        elif(l1[i]==l1[j]):\n",
    "            ans.append(l1[i])\n",
    "            ans.append(l1[j])\n",
    "            i+=1\n",
    "            j+=1\n",
    "            \n",
    "    while(i<=m):\n",
    "        ans.append(l1[i])\n",
    "        i+=1\n",
    "    while(j<=e):\n",
    "        ans.append(l1[j])\n",
    "        j+=1\n",
    "    \n",
    "    startmyans=0\n",
    "    startmylist=s\n",
    "    while(startmylist<=e):\n",
    "        l1[startmylist]=ans[startmyans]\n",
    "        startmyans+=1\n",
    "        startmylist+=1\n",
    "    return\n",
    "\n",
    "def Mergesorthelper(l1,s,e):\n",
    "    if(s>=e):\n",
    "        return\n",
    "    \n",
    "    m=s+(e-s)//2\n",
    "    \n",
    "    Mergesorthelper(l1,s,m)\n",
    "    Mergesorthelper(l1,m+1,e)\n",
    "    \n",
    "    Merge(l1,s,m,e)\n",
    "    return\n",
    "\n",
    "def Mergesort(l1):\n",
    "    return Mergesorthelper(l1,0,len(l1)-1)\n",
    "    \n",
    "\n",
    "l1=[4,3,6,2,4,1,10]\n",
    "Mergesort(l1)\n",
    "print(l1)\n",
    "\n"
   ]
  },
  {
   "cell_type": "code",
   "execution_count": 5,
   "metadata": {},
   "outputs": [
    {
     "name": "stdout",
     "output_type": "stream",
     "text": [
      "[1, 2, 3, 4, 4, 6, 10]\n"
     ]
    }
   ],
   "source": [
    "def Merge(l1,s,m,e):\n",
    "    i=s\n",
    "    j=m+1\n",
    "    \n",
    "    ans=[]\n",
    "    \n",
    "    while(i<=m and j<=e):\n",
    "        if(l1[i]<l1[j]):\n",
    "            ans.append(l1[i])\n",
    "            i+=1\n",
    "        elif(l1[i]>l1[j]):\n",
    "            ans.append(l1[j])\n",
    "            j+=1\n",
    "        elif(l1[i]==l1[j]):\n",
    "            ans.append(l1[i])\n",
    "            ans.append(l1[j])\n",
    "            i+=1\n",
    "            j+=1\n",
    "            \n",
    "    while(i<=m):\n",
    "        ans.append(l1[i])\n",
    "        i+=1\n",
    "    while(j<=e):\n",
    "        ans.append(l1[j])\n",
    "        j+=1\n",
    "    \n",
    "    startmyans=0\n",
    "    startmylist=s\n",
    "    while(startmylist<=e):\n",
    "        l1[startmylist]=ans[startmyans]\n",
    "        startmyans+=1\n",
    "        startmylist+=1\n",
    "    return\n",
    "\n",
    "def Mergesorthelper(l1,s,e):\n",
    "    if(s>=e):\n",
    "        return\n",
    "    \n",
    "    m=s+(e-s)//2\n",
    "    \n",
    "    Mergesorthelper(l1,s,m)\n",
    "    Mergesorthelper(l1,m+1,e)\n",
    "    \n",
    "    Merge(l1,s,m,e)\n",
    "    return\n",
    "\n",
    "def Mergesort(l1):\n",
    "    return Mergesorthelper(l1,0,len(l1)-1)\n",
    "    \n",
    "\n",
    "l1=[4,3,6,2,4,1,10]\n",
    "Mergesort(l1)\n",
    "print(l1)"
   ]
  },
  {
   "cell_type": "code",
   "execution_count": null,
   "metadata": {},
   "outputs": [],
   "source": []
  }
 ],
 "metadata": {
  "kernelspec": {
   "display_name": "Python 3",
   "language": "python",
   "name": "python3"
  },
  "language_info": {
   "codemirror_mode": {
    "name": "ipython",
    "version": 3
   },
   "file_extension": ".py",
   "mimetype": "text/x-python",
   "name": "python",
   "nbconvert_exporter": "python",
   "pygments_lexer": "ipython3",
   "version": "3.12.0"
  }
 },
 "nbformat": 4,
 "nbformat_minor": 2
}
