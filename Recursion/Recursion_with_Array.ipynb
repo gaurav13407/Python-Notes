{
 "cells": [
  {
   "cell_type": "markdown",
   "metadata": {},
   "source": [
    "### Recursion With Array"
   ]
  },
  {
   "cell_type": "code",
   "execution_count": 3,
   "metadata": {},
   "outputs": [
    {
     "name": "stdout",
     "output_type": "stream",
     "text": [
      "True\n"
     ]
    }
   ],
   "source": [
    "## Tail Recursion\n",
    "def checksorted(l1):\n",
    "    if(len(l1)==0 or len(l1)==1):\n",
    "        return True\n",
    "    \n",
    "    ans=checksorted(l1[1:])\n",
    "    \n",
    "    if(l1[0] <l1[1]):\n",
    "       return ans\n",
    "    else:\n",
    "        return False\n",
    "\n",
    "print(checksorted([2,5,7,9,10]))"
   ]
  },
  {
   "cell_type": "code",
   "execution_count": 5,
   "metadata": {},
   "outputs": [
    {
     "name": "stdout",
     "output_type": "stream",
     "text": [
      "True\n"
     ]
    }
   ],
   "source": [
    "## Head Recursion\n",
    "def checksorted(l1):\n",
    "    if(len(l1)==0 or len(l1)==1):\n",
    "        return True\n",
    "    \n",
    "    \n",
    "    if(l1[0] <l1[1]):\n",
    "       return checksorted(l1[1:])\n",
    "    else:\n",
    "        return False\n",
    "\n",
    "print(checksorted([2,5,7,9,10]))"
   ]
  },
  {
   "cell_type": "code",
   "execution_count": 9,
   "metadata": {},
   "outputs": [
    {
     "name": "stdout",
     "output_type": "stream",
     "text": [
      "15\n"
     ]
    }
   ],
   "source": [
    "def sumArray(l1):\n",
    "    if(len(l1)==0):\n",
    "        return 0\n",
    "    \n",
    "    sumofleftoverarray=sumArray(l1[1:])\n",
    "    ans=sumofleftoverarray+l1[0]\n",
    "    return ans\n",
    "\n",
    "print(sumArray([1,2,3,4,5]))"
   ]
  },
  {
   "cell_type": "code",
   "execution_count": 11,
   "metadata": {},
   "outputs": [
    {
     "name": "stdout",
     "output_type": "stream",
     "text": [
      "15\n"
     ]
    }
   ],
   "source": [
    "def sumArray(l1):\n",
    "    if(len(l1)==0):\n",
    "        return 0\n",
    "    \n",
    "    ans=l1[0]+sumArray(l1[1:])\n",
    "    \n",
    "    return ans\n",
    "\n",
    "print(sumArray([1,2,3,4,5]))"
   ]
  },
  {
   "cell_type": "code",
   "execution_count": 17,
   "metadata": {},
   "outputs": [
    {
     "name": "stdout",
     "output_type": "stream",
     "text": [
      "1\n",
      "-1\n",
      "6\n"
     ]
    }
   ],
   "source": [
    "def firstindex(l1,x):\n",
    "    if(len(l1)==0):\n",
    "        return -1\n",
    "    if(l1[0]==x):\n",
    "        return 0\n",
    "    ans=firstindex(l1[1:],x)\n",
    "    if(ans==-1):\n",
    "        return ans\n",
    "    else:\n",
    "        return ans+1\n",
    "    \n",
    "    \n",
    "print(firstindex([3,2,5,2,8,2,1],2))\n",
    "print(firstindex([3,2,5,2,8,2,1],10))\n",
    "print(firstindex([3,2,5,2,8,2,1],1))"
   ]
  },
  {
   "cell_type": "code",
   "execution_count": 22,
   "metadata": {},
   "outputs": [
    {
     "name": "stdout",
     "output_type": "stream",
     "text": [
      "1\n",
      "-1\n",
      "6\n"
     ]
    }
   ],
   "source": [
    "def lastindex(l1,x):\n",
    "    if(len(l1)==0):\n",
    "        return -1\n",
    "    if(l1[-1]==x):\n",
    "        return 0\n",
    "    ans=lastindex(l1[:-1],x)\n",
    "    if(ans==-1):\n",
    "        return ans\n",
    "    else:\n",
    "        return ans+1\n",
    "    \n",
    "print(firstindex([3,2,5,2,8,2,1],2))\n",
    "print(firstindex([3,2,5,2,8,2,1],10))\n",
    "print(firstindex([3,2,5,2,8,2,1],1))"
   ]
  },
  {
   "cell_type": "code",
   "execution_count": 26,
   "metadata": {},
   "outputs": [
    {
     "name": "stdout",
     "output_type": "stream",
     "text": [
      "1\n"
     ]
    }
   ],
   "source": [
    "def firstindexbetter(l1,x,index):\n",
    "    if(len(l1)==index):\n",
    "        return -1\n",
    "    \n",
    "    if(l1[index]==x):\n",
    "        return index\n",
    "    return firstindexbetter(l1,x,index+1)   \n",
    "     \n",
    "\n",
    "print(firstindexbetter([3,2,5,2,8,2,1],2,0))"
   ]
  },
  {
   "cell_type": "code",
   "execution_count": 27,
   "metadata": {},
   "outputs": [
    {
     "name": "stdout",
     "output_type": "stream",
     "text": [
      "1\n",
      "3\n",
      "5\n",
      "None\n"
     ]
    }
   ],
   "source": [
    "def printinseciceshelper(l1,x,index):\n",
    "    if(len(l1)==index):\n",
    "        return\n",
    "    if(l1[index]==x):\n",
    "        print(index)\n",
    "    \n",
    "    printinseciceshelper(l1,x,index+1)\n",
    "\n",
    "def printindecices(l1,x):\n",
    "    ## helper function\n",
    "    printinseciceshelper(l1,x,0)\n",
    "\n",
    "print(printindecices([3,2,5,2,8,2,1],2))"
   ]
  },
  {
   "cell_type": "code",
   "execution_count": 29,
   "metadata": {},
   "outputs": [
    {
     "name": "stdout",
     "output_type": "stream",
     "text": [
      "[1, 3, 5]\n"
     ]
    }
   ],
   "source": [
    "def updateindecies(l1,x,index,anslist):\n",
    "    if(len(l1)==index):\n",
    "        return\n",
    "    if(l1[index]==x):\n",
    "        anslist.append(index)\n",
    "    updateindecies(l1,x,index+1,anslist)\n",
    "    \n",
    "anslist=[]\n",
    "updateindecies([3,2,5,2,8,2,1],2,0,anslist)\n",
    "\n",
    "print(anslist)"
   ]
  },
  {
   "cell_type": "code",
   "execution_count": 1,
   "metadata": {},
   "outputs": [
    {
     "name": "stdout",
     "output_type": "stream",
     "text": [
      "[1, 3, 5]\n"
     ]
    }
   ],
   "source": [
    "anslist=[]\n",
    "\n",
    "def updateindeciesgloble(l1,x,index,):\n",
    "    if(len(l1)==index):\n",
    "        return\n",
    "    if(l1[index]==x):\n",
    "        anslist.append(index)\n",
    "    updateindeciesgloble(l1,x,index+1,)\n",
    "    \n",
    "\n",
    "updateindeciesgloble([3,2,5,2,8,2,1],2,0,)\n",
    "\n",
    "print(anslist)"
   ]
  },
  {
   "cell_type": "code",
   "execution_count": 3,
   "metadata": {},
   "outputs": [
    {
     "name": "stdout",
     "output_type": "stream",
     "text": [
      "[5, 3, 1]\n"
     ]
    }
   ],
   "source": [
    "def return01indicies(l1,x,index):\n",
    "    if(len(l1)==index):\n",
    "        return []\n",
    "    smalllist=return01indicies(l1,x,index+1)\n",
    "    if(l1[index]==x):\n",
    "        smalllist.append(index)\n",
    "        \n",
    "    return smalllist \n",
    "\n",
    "\n",
    "\n",
    "anslist=return01indicies([3,2,5,2,8,2,1],2,0)\n",
    "print(anslist)"
   ]
  },
  {
   "cell_type": "code",
   "execution_count": null,
   "metadata": {},
   "outputs": [],
   "source": []
  }
 ],
 "metadata": {
  "kernelspec": {
   "display_name": "Python 3",
   "language": "python",
   "name": "python3"
  },
  "language_info": {
   "codemirror_mode": {
    "name": "ipython",
    "version": 3
   },
   "file_extension": ".py",
   "mimetype": "text/x-python",
   "name": "python",
   "nbconvert_exporter": "python",
   "pygments_lexer": "ipython3",
   "version": "3.12.0"
  }
 },
 "nbformat": 4,
 "nbformat_minor": 2
}
