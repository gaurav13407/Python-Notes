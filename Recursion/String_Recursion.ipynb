{
 "cells": [
  {
   "cell_type": "markdown",
   "metadata": {},
   "source": [
    "## String using the Recursion"
   ]
  },
  {
   "cell_type": "code",
   "execution_count": 2,
   "metadata": {},
   "outputs": [
    {
     "name": "stdout",
     "output_type": "stream",
     "text": [
      "good morning\n"
     ]
    }
   ],
   "source": [
    "## Remove a charcter in a string\n",
    "def remove_character(s1,ch):\n",
    "    if(len(s1)==0 or s1==''):\n",
    "        return s1\n",
    "    smallans=remove_character(s1[1:],ch)\n",
    "    if(s1[0]==ch):\n",
    "        return smallans\n",
    "    else:\n",
    "        return s1[0]+smallans\n",
    " \n",
    " \n",
    "s1=\"good morningzz\"\n",
    "ans=remove_character(s1,'z')\n",
    "print(ans)\n",
    " "
   ]
  },
  {
   "cell_type": "code",
   "execution_count": 3,
   "metadata": {},
   "outputs": [
    {
     "name": "stdout",
     "output_type": "stream",
     "text": [
      "iti\n"
     ]
    }
   ],
   "source": [
    "s='nitin'\n",
    "n=len(s)\n",
    "\n",
    "print(s[1:n-1])"
   ]
  },
  {
   "cell_type": "code",
   "execution_count": 8,
   "metadata": {},
   "outputs": [
    {
     "name": "stdout",
     "output_type": "stream",
     "text": [
      "True\n"
     ]
    }
   ],
   "source": [
    "## Check if the string is palindrome or not\n",
    "def palindromehelper(s1,start,end):\n",
    "    if(start>=end):\n",
    "          return True\n",
    "    if(s1[start]!=s1[end]):\n",
    "        return False\n",
    "    return palindromehelper(s1,start+1,end-1)\n",
    "\n",
    "def palindrome(s1):\n",
    "    return palindromehelper(s1,0,len(s1)-1)\n",
    "\n",
    "print(palindrome('nitin'))"
   ]
  },
  {
   "cell_type": "code",
   "execution_count": 9,
   "metadata": {},
   "outputs": [
    {
     "name": "stdout",
     "output_type": "stream",
     "text": [
      "['', 'c', 'b', 'bc', 'a', 'ac', 'ab', 'abc']\n"
     ]
    }
   ],
   "source": [
    "\"\"\"  \n",
    "string\n",
    "substring\n",
    "subsequences\n",
    "\"\"\"\n",
    "def return_subsequences(s1):\n",
    "    if(s1==''):\n",
    "        ans=['']\n",
    "        return ans\n",
    "    smallans=return_subsequences(s1[1:]) # [b,c,bc,'']\n",
    "    \n",
    "    ans=[]\n",
    "    ans.extend(smallans)# ans=# [b,c,bc,'']\n",
    "    \n",
    "    for i in smallans:\n",
    "        ans.append(s1[0]+i)\n",
    "    return ans\n",
    "\n",
    "s1='abc'\n",
    "\n",
    "l1=return_subsequences(s1)\n",
    "print(l1)"
   ]
  },
  {
   "cell_type": "code",
   "execution_count": 10,
   "metadata": {},
   "outputs": [
    {
     "name": "stdout",
     "output_type": "stream",
     "text": [
      "abc\n",
      "ab\n",
      "ac\n",
      "a\n",
      "bc\n",
      "b\n",
      "c\n",
      "\n",
      "None\n"
     ]
    }
   ],
   "source": [
    "## Print all subsequences\n",
    "def print_subsequences(s1,takensofar):\n",
    "    if(s1=='' or len(s1)==0):\n",
    "        print(takensofar)\n",
    "        return\n",
    "    currentchar=s1[0]\n",
    "    smallinput=s1[1:]\n",
    "    print_subsequences(smallinput,takensofar+currentchar)\n",
    "    print_subsequences(smallinput,takensofar)\n",
    "    \n",
    "    return\n",
    "\n",
    "s1='abc'\n",
    "print(print_subsequences(s1,''))"
   ]
  },
  {
   "cell_type": "code",
   "execution_count": 14,
   "metadata": {},
   "outputs": [
    {
     "name": "stdout",
     "output_type": "stream",
     "text": [
      "cba\n",
      "bca\n",
      "bac\n",
      "cab\n",
      "acb\n",
      "abc\n",
      "None\n"
     ]
    }
   ],
   "source": [
    "## Permutation of a String\n",
    "\n",
    "def print_permutation(s1,takensofar):\n",
    "    if(len(s1)==0):\n",
    "        print(takensofar)\n",
    "        return\n",
    "    ourchar=s1[0]\n",
    "    smallinput=s1[1:]\n",
    "    \n",
    "    for i in range(0,len(takensofar)+1):\n",
    "        print_permutation(smallinput,takensofar[0:i]+ourchar+takensofar[i:])\n",
    "        \n",
    "        \n",
    "    return\n",
    "\n",
    "\n",
    "print(print_permutation('abc',''))"
   ]
  },
  {
   "cell_type": "code",
   "execution_count": 15,
   "metadata": {},
   "outputs": [
    {
     "name": "stdout",
     "output_type": "stream",
     "text": [
      "['abc', 'bac', 'bca', 'acb', 'cab', 'cba']\n"
     ]
    }
   ],
   "source": [
    "## Return Permutation of a string\n",
    "def return_permutation(s1):\n",
    "    if(s1==''): ## base case\n",
    "        return ['']\n",
    "    currentchar=s1[0]\n",
    "    prtmutationsmall=return_permutation(s1[1:]) ## ['bc','cb']\n",
    "    allpermutation=[]\n",
    "    for i in prtmutationsmall:\n",
    "        for position in range(0,len(i)+1):\n",
    "            allpermutation.append(i[0:position]+currentchar+i[position:])\n",
    "            \n",
    "    return allpermutation\n",
    "\n",
    "ans=return_permutation('abc')\n",
    "print(ans)\n"
   ]
  },
  {
   "cell_type": "code",
   "execution_count": 19,
   "metadata": {},
   "outputs": [
    {
     "name": "stdout",
     "output_type": "stream",
     "text": [
      "['ad', 'ae', 'af', 'bd', 'be', 'bf', 'cd', 'ce', 'cf']\n"
     ]
    }
   ],
   "source": [
    "## Print  words from a phone number\n",
    "keys={'1':'','2':'abc','3':'def','4':'ghi','5':'jkl','6':'mno','7':'pqrs','8':'tuv','9':'wxyz'}\n",
    "\n",
    "def return_all_words(input):\n",
    "    if(input==''): ## base case\n",
    "      return ['']\n",
    "    \n",
    "    ans=[]\n",
    "  \n",
    "    smallinput=input[1:]\n",
    "    smallinputwords=return_all_words(smallinput)\n",
    "    \n",
    "    keysletter=keys[input[0]]\n",
    "    for mychar in keysletter:\n",
    "        for word in smallinputwords:\n",
    "            ans.append(mychar+word)\n",
    "            \n",
    "    return ans\n",
    "\n",
    "ans=return_all_words('23')\n",
    "print(ans)"
   ]
  },
  {
   "cell_type": "code",
   "execution_count": 22,
   "metadata": {},
   "outputs": [
    {
     "name": "stdout",
     "output_type": "stream",
     "text": [
      "['abc', 'lc']\n"
     ]
    }
   ],
   "source": [
    "\n",
    "def get_char(value):\n",
    "    if(value<=0 or value>26):\n",
    "        return \"\"\n",
    "    return chr(97+value-1)\n",
    "\n",
    "def return_all_code(input):\n",
    "    if(input==''):  ## base case\n",
    "        return []\n",
    "    \n",
    "    if(len(input)==1):\n",
    "        singlechar=get_char(int(input))\n",
    "        return [singlechar]\n",
    "    \n",
    "    singledigit=int(input[0:1])\n",
    "    doubledigit=int(input[0:2])\n",
    "    mainAns=[]\n",
    "    \n",
    "    answithout1stdigit=return_all_code(input[1:])\n",
    "    \n",
    "    for eachans in answithout1stdigit:\n",
    "        mainAns.append(get_char(singledigit)+eachans)\n",
    "        \n",
    "    if(doubledigit>=10 and doubledigit<=26):\n",
    "        answithout2nddigit=return_all_code(input[2:])\n",
    "        for eachans in answithout2nddigit:\n",
    "            \n",
    "             mainAns.append(get_char(doubledigit)+eachans)\n",
    "             \n",
    "    return mainAns\n",
    "\n",
    "ans=return_all_code('123')\n",
    "print(ans)"
   ]
  },
  {
   "cell_type": "code",
   "execution_count": null,
   "metadata": {},
   "outputs": [],
   "source": []
  }
 ],
 "metadata": {
  "kernelspec": {
   "display_name": "Python 3",
   "language": "python",
   "name": "python3"
  },
  "language_info": {
   "codemirror_mode": {
    "name": "ipython",
    "version": 3
   },
   "file_extension": ".py",
   "mimetype": "text/x-python",
   "name": "python",
   "nbconvert_exporter": "python",
   "pygments_lexer": "ipython3",
   "version": "3.12.0"
  }
 },
 "nbformat": 4,
 "nbformat_minor": 2
}
