{
 "cells": [
  {
   "cell_type": "markdown",
   "metadata": {},
   "source": [
    "### Linear search using Recursion"
   ]
  },
  {
   "cell_type": "code",
   "execution_count": null,
   "metadata": {},
   "outputs": [
    {
     "name": "stdout",
     "output_type": "stream",
     "text": [
      "True\n"
     ]
    }
   ],
   "source": [
    "def Linearsearch(l1,x,index):\n",
    "    ##Base case\n",
    "    if(len(l1)==index):\n",
    "        return False\n",
    "    ansfrom=Linearsearch(l1,x,index+1)\n",
    "    if(ansfrom==True):\n",
    "        return True\n",
    "    if(l1[index]==x):\n",
    "        return True\n",
    "    else:\n",
    "        return False\n",
    "    ##return l1[index]== x or ansfrom\n",
    "\n",
    "ans=Linearsearch([1,4,3,2,6,5,8],3,0)\n",
    "print(ans)"
   ]
  },
  {
   "cell_type": "code",
   "execution_count": 4,
   "metadata": {},
   "outputs": [
    {
     "name": "stdout",
     "output_type": "stream",
     "text": [
      "True\n"
     ]
    }
   ],
   "source": [
    "def Linearsearch(l1,x,index):\n",
    "    ##Base case\n",
    "    if(len(l1)==index):\n",
    "        return False\n",
    "    ansfrom=Linearsearch(l1,x,index+1)\n",
    "    \n",
    "    return l1[index]== x or ansfrom\n",
    "\n",
    "ans=Linearsearch([1,4,3,2,6,5,8],3,0)\n",
    "print(ans)"
   ]
  },
  {
   "cell_type": "code",
   "execution_count": 8,
   "metadata": {},
   "outputs": [
    {
     "name": "stdout",
     "output_type": "stream",
     "text": [
      "True\n"
     ]
    }
   ],
   "source": [
    "def Linearsearch(l1,x,index):\n",
    "    ##Base case\n",
    "    if(len(l1)==index):\n",
    "        return False\n",
    "    if(l1[index]==x):\n",
    "        return True\n",
    "    else:\n",
    "        return Linearsearch(l1,x,index+1)\n",
    "    \n",
    "    \n",
    "\n",
    "ans=Linearsearch([1,4,3,2,6,5,8],3,0)\n",
    "print(ans)"
   ]
  },
  {
   "cell_type": "code",
   "execution_count": null,
   "metadata": {},
   "outputs": [],
   "source": []
  }
 ],
 "metadata": {
  "kernelspec": {
   "display_name": "Python 3",
   "language": "python",
   "name": "python3"
  },
  "language_info": {
   "codemirror_mode": {
    "name": "ipython",
    "version": 3
   },
   "file_extension": ".py",
   "mimetype": "text/x-python",
   "name": "python",
   "nbconvert_exporter": "python",
   "pygments_lexer": "ipython3",
   "version": "3.12.0"
  }
 },
 "nbformat": 4,
 "nbformat_minor": 2
}
