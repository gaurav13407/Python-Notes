{
 "cells": [
  {
   "cell_type": "markdown",
   "metadata": {},
   "source": [
    "## PMI(Princiipal of mathematical Induction)"
   ]
  },
  {
   "cell_type": "code",
   "execution_count": 12,
   "metadata": {},
   "outputs": [
    {
     "name": "stdout",
     "output_type": "stream",
     "text": [
      "15\n"
     ]
    }
   ],
   "source": [
    "def sumofn(n):\n",
    "    if(n==1):\n",
    "        return 1\n",
    "    return n+sumofn(n-1)\n",
    "\n",
    "print(sumofn(5))"
   ]
  },
  {
   "cell_type": "code",
   "execution_count": 5,
   "metadata": {},
   "outputs": [
    {
     "name": "stdout",
     "output_type": "stream",
     "text": [
      "32\n"
     ]
    }
   ],
   "source": [
    "def power2(n):\n",
    "    if(n==1):\n",
    "        return 2\n",
    "    smallans=power2(n-1) ## Step 2-Induction Hypothesis\n",
    "    \n",
    "    ans=2*smallans\n",
    "    \n",
    "    return ans\n",
    "\n",
    "print(power2(5))"
   ]
  },
  {
   "cell_type": "code",
   "execution_count": 7,
   "metadata": {},
   "outputs": [
    {
     "name": "stdout",
     "output_type": "stream",
     "text": [
      "32\n"
     ]
    }
   ],
   "source": [
    "def power(n):\n",
    "    if(n==1):\n",
    "        return 2\n",
    "    return 2*power(n-1)\n",
    "\n",
    "print(power(5))"
   ]
  },
  {
   "cell_type": "code",
   "execution_count": 16,
   "metadata": {},
   "outputs": [
    {
     "name": "stdout",
     "output_type": "stream",
     "text": [
      "15\n"
     ]
    }
   ],
   "source": [
    "def sumofnatural(n):\n",
    "    if (n==0):\n",
    "        return 0\n",
    "    smallansw=sumofnatural(n-1)## Assume that i will get my answer\n",
    "    answ=n+smallansw\n",
    "    return answ\n",
    "\n",
    "print(sumofnatural(5))"
   ]
  },
  {
   "cell_type": "code",
   "execution_count": 21,
   "metadata": {},
   "outputs": [
    {
     "name": "stdout",
     "output_type": "stream",
     "text": [
      "3\n",
      "6\n"
     ]
    }
   ],
   "source": [
    "def digit(n):\n",
    "    if(n>=1 and n<=9):\n",
    "        return 1\n",
    "    elif(n==0):\n",
    "        return 1\n",
    "    \n",
    "    smallnumber=int(n/10)\n",
    "    smallanswer=digit(smallnumber)\n",
    "    \n",
    "    answ=1+smallanswer\n",
    "    \n",
    "    return answ\n",
    "\n",
    "print(digit(123))\n",
    "print(digit(123456))"
   ]
  },
  {
   "cell_type": "code",
   "execution_count": 26,
   "metadata": {},
   "outputs": [
    {
     "name": "stdout",
     "output_type": "stream",
     "text": [
      "8\n"
     ]
    }
   ],
   "source": [
    "def fibonacci(n):\n",
    "    if(n==0):\n",
    "        return 1\n",
    "    elif(n==1):\n",
    "        return 1\n",
    "    last=fibonacci(n-1)\n",
    "    secondlast=fibonacci(n-2)\n",
    "    \n",
    "    ans=last+secondlast\n",
    "    return ans\n",
    "\n",
    "print(fibonacci(5))"
   ]
  },
  {
   "cell_type": "code",
   "execution_count": 27,
   "metadata": {},
   "outputs": [
    {
     "name": "stdout",
     "output_type": "stream",
     "text": [
      "1\n",
      "2\n",
      "3\n",
      "4\n",
      "5\n",
      "None\n"
     ]
    }
   ],
   "source": [
    "def printn(n):\n",
    "    if(n<=0):\n",
    "        return\n",
    "    printn(n-1)\n",
    "    print(n)\n",
    "\n",
    "print(printn(5))"
   ]
  },
  {
   "cell_type": "code",
   "execution_count": 34,
   "metadata": {},
   "outputs": [
    {
     "name": "stdout",
     "output_type": "stream",
     "text": [
      "5\n",
      "4\n",
      "3\n",
      "2\n",
      "1\n",
      "None\n"
     ]
    }
   ],
   "source": [
    "def print1(n):\n",
    "    if(n==0):\n",
    "        return \n",
    "    print(n)\n",
    "    print1(n-1)\n",
    "print(print1(5))"
   ]
  },
  {
   "cell_type": "code",
   "execution_count": null,
   "metadata": {},
   "outputs": [],
   "source": []
  }
 ],
 "metadata": {
  "kernelspec": {
   "display_name": "Python 3",
   "language": "python",
   "name": "python3"
  },
  "language_info": {
   "codemirror_mode": {
    "name": "ipython",
    "version": 3
   },
   "file_extension": ".py",
   "mimetype": "text/x-python",
   "name": "python",
   "nbconvert_exporter": "python",
   "pygments_lexer": "ipython3",
   "version": "3.12.0"
  }
 },
 "nbformat": 4,
 "nbformat_minor": 2
}
