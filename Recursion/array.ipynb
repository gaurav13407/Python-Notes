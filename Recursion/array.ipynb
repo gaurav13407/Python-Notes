{
 "cells": [
  {
   "cell_type": "code",
   "execution_count": 25,
   "metadata": {},
   "outputs": [
    {
     "name": "stdout",
     "output_type": "stream",
     "text": [
      "None\n"
     ]
    }
   ],
   "source": [
    "def remove_duplicates(l1,index, my_list=[]):\n",
    "   \n",
    "    if(len(l1)==index):\n",
    "        return \n",
    "    \n",
    "    \n",
    "    for i in range(len(l1)):\n",
    "        if(l1[index]!=l1[i]):\n",
    "             my_list.append(l1[index])\n",
    "        return remove_duplicates(l1,index+1)   \n",
    "    return my_list\n",
    "    \n",
    "\n",
    "\n",
    "\n",
    "ans=remove_duplicates([1,2,2,1,4,5,5,2,6,7,4],0)\n",
    "print(ans)"
   ]
  },
  {
   "cell_type": "code",
   "execution_count": 6,
   "metadata": {},
   "outputs": [
    {
     "name": "stdout",
     "output_type": "stream",
     "text": [
      "[]\n"
     ]
    }
   ],
   "source": [
    "def remove_charcter(arr):\n",
    "    my_list=[]\n",
    "    for i in arr:\n",
    "        if(i==my_list):\n",
    "            my_list.append(i)\n",
    "    return my_list\n",
    "    \n",
    "\n",
    "ans=remove_charcter([1,1,2,3,4,5,3,4,5])\n",
    "print(ans)"
   ]
  },
  {
   "cell_type": "code",
   "execution_count": 12,
   "metadata": {},
   "outputs": [
    {
     "name": "stdout",
     "output_type": "stream",
     "text": [
      "New length: 5\n",
      "Array after removing duplicates: [1, 2, 3, 4, 5]\n"
     ]
    }
   ],
   "source": [
    "def remove_duplicates(nums):\n",
    "    i = 0\n",
    "    n = len(nums)\n",
    "    for j in range(1, n):\n",
    "        if nums[i] != nums[j]:\n",
    "            nums[i + 1] = nums[j]\n",
    "            i += 1\n",
    "    return i + 1\n",
    "\n",
    "# Example usage:\n",
    "nums = [1, 1, 2, 2, 3, 4, 4, 5]\n",
    "new_length = remove_duplicates(nums)\n",
    "print(\"New length:\", new_length)\n",
    "print(\"Array after removing duplicates:\", nums[:new_length])\n"
   ]
  },
  {
   "cell_type": "code",
   "execution_count": 26,
   "metadata": {},
   "outputs": [
    {
     "name": "stdout",
     "output_type": "stream",
     "text": [
      "Array without duplicates: [1, 2, 3, 4, 5, 6]\n"
     ]
    }
   ],
   "source": [
    "def remove_duplicates_recursive(arr, index=0, result=None):\n",
    "    if result is None:  # Initialize the result list only once\n",
    "        result = []\n",
    "\n",
    "    # Base case: If index reaches the end of the array, return the result\n",
    "    if index == len(arr):\n",
    "        return result\n",
    "\n",
    "    # If the current element is not in the result, add it\n",
    "    if arr[index] not in result:\n",
    "        result.append(arr[index])\n",
    "\n",
    "    # Recur for the next index\n",
    "    return remove_duplicates_recursive(arr, index + 1, result)\n",
    "\n",
    "# Example usage\n",
    "array = [1, 2, 3, 2, 4, 5, 1, 6]\n",
    "unique_array = remove_duplicates_recursive(array)\n",
    "print(\"Array without duplicates:\", unique_array)\n"
   ]
  },
  {
   "cell_type": "code",
   "execution_count": 6,
   "metadata": {},
   "outputs": [
    {
     "name": "stdout",
     "output_type": "stream",
     "text": [
      "[1, 2, 1, 3, 4, 2, 5, 3, 5]\n"
     ]
    }
   ],
   "source": [
    "def remove(arr,index=0,result=None):\n",
    "    if (result==None):\n",
    "        result=[]\n",
    "    if (index==len(arr)):\n",
    "        return result\n",
    "    if (arr[index]!=result):\n",
    "        result.append(arr[index])\n",
    "    return remove(arr,index+1,result)\n",
    "\n",
    "ans=remove([1,2,1,3,4,2,5,3,5])\n",
    "print(ans)"
   ]
  },
  {
   "cell_type": "code",
   "execution_count": null,
   "metadata": {},
   "outputs": [],
   "source": []
  }
 ],
 "metadata": {
  "kernelspec": {
   "display_name": "Python 3",
   "language": "python",
   "name": "python3"
  },
  "language_info": {
   "codemirror_mode": {
    "name": "ipython",
    "version": 3
   },
   "file_extension": ".py",
   "mimetype": "text/x-python",
   "name": "python",
   "nbconvert_exporter": "python",
   "pygments_lexer": "ipython3",
   "version": "3.12.0"
  }
 },
 "nbformat": 4,
 "nbformat_minor": 2
}
