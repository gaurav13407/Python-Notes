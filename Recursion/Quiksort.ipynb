{
 "cells": [
  {
   "cell_type": "markdown",
   "metadata": {},
   "source": [
    "## QuickSort"
   ]
  },
  {
   "cell_type": "code",
   "execution_count": null,
   "metadata": {},
   "outputs": [],
   "source": [
    "def partictianfunction(l1,s,e):\n",
    "    pass\n",
    "\n",
    "def quicksort(l1,s,e):\n",
    "    if(s>=e):\n",
    "        return\n",
    "    \n",
    "    pivot=partictianfunction(l1,s,e)\n",
    "    \n",
    "    quicksort(l1,s,pivot-1)\n",
    "    quicksort(l1,pivot+1,e)\n",
    "    return\n",
    "\n",
    "l1=[3,6,7,2,1,4,5]\n",
    "quicksort(l1,0,len(l1)-1)\n",
    "print(l1)"
   ]
  },
  {
   "cell_type": "code",
   "execution_count": 6,
   "metadata": {},
   "outputs": [
    {
     "name": "stdout",
     "output_type": "stream",
     "text": [
      "[1, 2, 3, 4, 5, 6, 7, 10]\n"
     ]
    }
   ],
   "source": [
    "def partictianfunction(l1,s,e):\n",
    "    pivot=l1[e]\n",
    "    \n",
    "    i=s\n",
    "    rightposition=s\n",
    "    while(i<=e-1):\n",
    "        if(l1[i]<pivot):\n",
    "            rightposition+=1\n",
    "        i+=1\n",
    "    l1[rightposition],l1[e]=l1[e],l1[rightposition]\n",
    "    \n",
    "    pivotindex=rightposition\n",
    "    \n",
    "    # Make sure that every thing smaller then pivot to left and greater to right\n",
    "    \n",
    "    start=s\n",
    "    end=e\n",
    "    while(start<pivotindex and end>pivotindex):\n",
    "        if(l1[start]<pivot):\n",
    "            start+=1\n",
    "        elif(l1[end]>=pivot):\n",
    "            end-=1\n",
    "        else:\n",
    "            l1[start],l1[end]=l1[end],l1[start]\n",
    "            start+=1\n",
    "            end-=1\n",
    "    return pivotindex\n",
    "\n",
    "def quicksort(l1,s,e):\n",
    "    if(s>=e):\n",
    "        return\n",
    "    \n",
    "    pivotindex=partictianfunction(l1,s,e)\n",
    "    \n",
    "    quicksort(l1,s,pivotindex-1)\n",
    "    quicksort(l1,pivotindex+1,e)\n",
    "    return\n",
    "\n",
    "l1=[3,6,7,2,1,4,5,10]\n",
    "quicksort(l1,0,len(l1)-1)\n",
    "print(l1)"
   ]
  },
  {
   "cell_type": "code",
   "execution_count": null,
   "metadata": {},
   "outputs": [],
   "source": []
  }
 ],
 "metadata": {
  "kernelspec": {
   "display_name": "Python 3",
   "language": "python",
   "name": "python3"
  },
  "language_info": {
   "codemirror_mode": {
    "name": "ipython",
    "version": 3
   },
   "file_extension": ".py",
   "mimetype": "text/x-python",
   "name": "python",
   "nbconvert_exporter": "python",
   "pygments_lexer": "ipython3",
   "version": "3.12.0"
  }
 },
 "nbformat": 4,
 "nbformat_minor": 2
}
