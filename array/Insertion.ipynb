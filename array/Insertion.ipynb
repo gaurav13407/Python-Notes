{
 "cells": [
  {
   "cell_type": "markdown",
   "metadata": {},
   "source": [
    "## Insertion Sort Alogrithm"
   ]
  },
  {
   "cell_type": "code",
   "execution_count": 1,
   "metadata": {},
   "outputs": [
    {
     "name": "stdout",
     "output_type": "stream",
     "text": [
      "sorted elements: [11, 12, 22, 25, 34, 90]\n"
     ]
    }
   ],
   "source": [
    "def insertion_sort(arr):\n",
    "    n=len(arr)\n",
    "    for current in range(1,n):\n",
    "        currentcard=arr[current]\n",
    "        correctposition=current-1#It will go from i-1 to 0\n",
    "        \n",
    "        while(correctposition>=0):\n",
    "            if(arr[correctposition]<currentcard):\n",
    "                break\n",
    "            else:\n",
    "                arr[correctposition+1]=arr[correctposition]\n",
    "                correctposition-=1\n",
    "                \n",
    "            arr[correctposition+1]=currentcard\n",
    "    return arr\n",
    "\n",
    "\n",
    "unsorted_list=[12,25,11,34,90,22]\n",
    "sorted_list= insertion_sort(unsorted_list)\n",
    "print(\"sorted elements:\",sorted_list)"
   ]
  }
 ],
 "metadata": {
  "kernelspec": {
   "display_name": "Python 3",
   "language": "python",
   "name": "python3"
  },
  "language_info": {
   "codemirror_mode": {
    "name": "ipython",
    "version": 3
   },
   "file_extension": ".py",
   "mimetype": "text/x-python",
   "name": "python",
   "nbconvert_exporter": "python",
   "pygments_lexer": "ipython3",
   "version": "3.12.0"
  }
 },
 "nbformat": 4,
 "nbformat_minor": 2
}
