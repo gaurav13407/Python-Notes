{
 "cells": [
  {
   "cell_type": "markdown",
   "metadata": {},
   "source": [
    "## Bubble Sort Algorithm"
   ]
  },
  {
   "cell_type": "code",
   "execution_count": 2,
   "metadata": {},
   "outputs": [
    {
     "name": "stdout",
     "output_type": "stream",
     "text": [
      "sorted elements: [11, 12, 22, 25, 34, 90]\n"
     ]
    }
   ],
   "source": [
    "def bubble_sort(arr):\n",
    "    n=len(arr)\n",
    "    for passes in range(n):\n",
    "        \n",
    "       for j in range(0,n-1-passes):\n",
    "        if(arr[j]>arr[j+1]):\n",
    "            arr[j],arr[j+1]=arr[j+1],arr[j]\n",
    "    return arr\n",
    "    \n",
    "    \n",
    "    \n",
    "    \n",
    "unsorted_list=[12,25,11,34,90,22]\n",
    "sorted_list= bubble_sort(unsorted_list)\n",
    "print(\"sorted elements:\",sorted_list)"
   ]
  }
 ],
 "metadata": {
  "kernelspec": {
   "display_name": "Python 3",
   "language": "python",
   "name": "python3"
  },
  "language_info": {
   "codemirror_mode": {
    "name": "ipython",
    "version": 3
   },
   "file_extension": ".py",
   "mimetype": "text/x-python",
   "name": "python",
   "nbconvert_exporter": "python",
   "pygments_lexer": "ipython3",
   "version": "3.12.0"
  }
 },
 "nbformat": 4,
 "nbformat_minor": 2
}
