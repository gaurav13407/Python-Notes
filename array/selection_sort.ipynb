{
 "cells": [
  {
   "cell_type": "markdown",
   "metadata": {},
   "source": [
    "## Selection Sort "
   ]
  },
  {
   "cell_type": "code",
   "execution_count": 11,
   "metadata": {},
   "outputs": [
    {
     "name": "stdout",
     "output_type": "stream",
     "text": [
      "sorted elements: [11, 12, 22, 25, 34, 90]\n"
     ]
    }
   ],
   "source": [
    "def selection_sort(arr):\n",
    "    n=len(arr)\n",
    "    \n",
    "    for i in range(n-1):\n",
    "        min_index=i\n",
    "        for j in range(i+1,n):\n",
    "             if (arr[j]<arr[min_index]):\n",
    "                 min_index=j\n",
    "    \n",
    "        arr[i],arr[min_index]=arr[min_index],arr[i]\n",
    "    \n",
    "    return arr\n",
    "unsorted_list=[12,25,11,34,90,22]\n",
    "sorted_list= selection_sort(unsorted_list)\n",
    "print(\"sorted elements:\",sorted_list)"
   ]
  }
 ],
 "metadata": {
  "kernelspec": {
   "display_name": "Python 3",
   "language": "python",
   "name": "python3"
  },
  "language_info": {
   "codemirror_mode": {
    "name": "ipython",
    "version": 3
   },
   "file_extension": ".py",
   "mimetype": "text/x-python",
   "name": "python",
   "nbconvert_exporter": "python",
   "pygments_lexer": "ipython3",
   "version": "3.12.0"
  }
 },
 "nbformat": 4,
 "nbformat_minor": 2
}
