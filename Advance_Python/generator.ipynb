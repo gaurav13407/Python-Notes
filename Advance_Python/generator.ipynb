{
 "cells": [
  {
   "cell_type": "markdown",
   "metadata": {},
   "source": [
    "## Generator\n",
    "\n",
    "Generators are a simpler way to create iterators.They used the yield keyword to produce a series of value lazily.which means they generate values on the fly and do not store them in memory."
   ]
  },
  {
   "cell_type": "code",
   "execution_count": 45,
   "metadata": {},
   "outputs": [],
   "source": [
    "def square(n):\n",
    "    for i in range(3):\n",
    "        yield i**2 "
   ]
  },
  {
   "cell_type": "code",
   "execution_count": 46,
   "metadata": {},
   "outputs": [
    {
     "data": {
      "text/plain": [
       "<generator object square at 0x000001BFD8F657D0>"
      ]
     },
     "execution_count": 46,
     "metadata": {},
     "output_type": "execute_result"
    }
   ],
   "source": [
    "square(3)"
   ]
  },
  {
   "cell_type": "code",
   "execution_count": 47,
   "metadata": {},
   "outputs": [
    {
     "name": "stdout",
     "output_type": "stream",
     "text": [
      "0\n",
      "1\n",
      "4\n"
     ]
    }
   ],
   "source": [
    "for i in square(3):\n",
    "    print(i)"
   ]
  },
  {
   "cell_type": "code",
   "execution_count": 48,
   "metadata": {},
   "outputs": [
    {
     "data": {
      "text/plain": [
       "<generator object square at 0x000001BFD8F65220>"
      ]
     },
     "execution_count": 48,
     "metadata": {},
     "output_type": "execute_result"
    }
   ],
   "source": [
    "a=square(3)\n",
    "a"
   ]
  },
  {
   "cell_type": "code",
   "execution_count": 49,
   "metadata": {},
   "outputs": [
    {
     "data": {
      "text/plain": [
       "0"
      ]
     },
     "execution_count": 49,
     "metadata": {},
     "output_type": "execute_result"
    }
   ],
   "source": [
    "next(a)"
   ]
  },
  {
   "cell_type": "code",
   "execution_count": 50,
   "metadata": {},
   "outputs": [],
   "source": [
    "def my_genrator():\n",
    "    yield 1\n",
    "    yield 2\n",
    "    yield 3"
   ]
  },
  {
   "cell_type": "code",
   "execution_count": 51,
   "metadata": {},
   "outputs": [
    {
     "data": {
      "text/plain": [
       "<generator object my_genrator at 0x000001BFD87DBAB0>"
      ]
     },
     "execution_count": 51,
     "metadata": {},
     "output_type": "execute_result"
    }
   ],
   "source": [
    "gen=my_genrator()\n",
    "gen"
   ]
  },
  {
   "cell_type": "code",
   "execution_count": 52,
   "metadata": {},
   "outputs": [
    {
     "data": {
      "text/plain": [
       "1"
      ]
     },
     "execution_count": 52,
     "metadata": {},
     "output_type": "execute_result"
    }
   ],
   "source": [
    "next(gen)"
   ]
  },
  {
   "cell_type": "code",
   "execution_count": 53,
   "metadata": {},
   "outputs": [
    {
     "name": "stdout",
     "output_type": "stream",
     "text": [
      "2\n",
      "3\n"
     ]
    }
   ],
   "source": [
    "for val in gen:\n",
    "    print(val)"
   ]
  },
  {
   "cell_type": "markdown",
   "metadata": {},
   "source": [
    "## Practicle Example:Reading Large Files\n",
    "Generators are particularly useful for reading large file because they allow you to process one line at a time without loading the entire file into memory."
   ]
  },
  {
   "cell_type": "code",
   "execution_count": 54,
   "metadata": {},
   "outputs": [],
   "source": [
    "### Practicle example reading large file\n",
    "\n",
    "def read_large_file(file_path):\n",
    "    with open(file_path,'r')as file:\n",
    "        for line in file:\n",
    "            yield line"
   ]
  },
  {
   "cell_type": "code",
   "execution_count": 55,
   "metadata": {},
   "outputs": [
    {
     "name": "stdout",
     "output_type": "stream",
     "text": [
      "Right to Equality\n",
      "14 Equality before law.\n",
      "15 Prohibition of discrimination on grounds of religion, race, caste, sex or place of birth.\n",
      "16 Equality of opportunity in matters of public employment.\n",
      "17 Abolition of Untouchability.\n",
      "18 Abolition of titles.\n",
      "Right to Freedom\n",
      "19 Protection of certain rights regarding freedom of speech, etc.\n",
      "20 Protection in respect of conviction for offences.\n",
      "21 Protection of life and personal liberty.\n",
      "21A Right to education\n",
      "22 Protection against arrest and detention in certain cases.\n",
      "Right against Exploitation\n",
      "23 Prohibition of traffic in human beings and forced labour.\n",
      "24 Prohibition of employment of children in factories, etc.\n",
      "Right to Freedom of Religion\n",
      "25 Freedom of conscience and free profession, practice and propagation of religion.\n",
      "26 Freedom to manage religious affairs.\n",
      "27 Freedom as to payment of taxes for promotion of any particular religion.\n",
      "28 Freedom as to attendance at religious instruction or religious worship in certain educational institutions.\n",
      "Cultural and Educational Rights\n",
      "29 Protection of interests of minorities.\n",
      "30 Right of minorities to establish and administer educational institutions.\n",
      "31 [Repealed.]\n",
      "Saving of Certain Laws\n",
      "31A Saving of Laws providing for the acquisition of estates, etc.\n",
      "31B Validation of certain Acts and Regulations.\n",
      "31C Saving of laws giving effect to certain directive principles.\n",
      "31D [Repealed.]\n",
      "Right to Constitutional Remedies\n",
      "32 Remedies for enforcement of rights conferred by this Part.\n",
      "32A [Repealed.]\n",
      "33 Power of Parliament to modify the rights conferred by this Part in their application to Forces, etc.\n",
      "34 Restriction on rights conferred by this Part while martial law is in force in any area.\n",
      "35 Legislation to give effect to the provisions of this Part.\n"
     ]
    }
   ],
   "source": [
    "file_path='large_file.txt'\n",
    "for line in read_large_file(file_path):\n",
    "    print(line.strip())"
   ]
  },
  {
   "cell_type": "code",
   "execution_count": null,
   "metadata": {},
   "outputs": [],
   "source": []
  }
 ],
 "metadata": {
  "kernelspec": {
   "display_name": "Python 3",
   "language": "python",
   "name": "python3"
  },
  "language_info": {
   "codemirror_mode": {
    "name": "ipython",
    "version": 3
   },
   "file_extension": ".py",
   "mimetype": "text/x-python",
   "name": "python",
   "nbconvert_exporter": "python",
   "pygments_lexer": "ipython3",
   "version": "3.12.0"
  }
 },
 "nbformat": 4,
 "nbformat_minor": 2
}
