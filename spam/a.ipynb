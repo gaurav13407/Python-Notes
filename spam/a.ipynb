{
 "cells": [
  {
   "cell_type": "markdown",
   "metadata": {},
   "source": [
    "22.02.2025\n",
    "\n",
    "1. WAP to find whether the given year is a leap or not.\n",
    "2. WAP to convert the upper case character into lower and vice-versa.\n",
    "3. WAP to find greatest number among three number using nested if-else.\n",
    "4. A company decides to give bouns to all its employee\n",
    "        1: 5% bouns in salary is given to male workers.\n",
    "        2: 10% on salary to female workers.\n",
    "   WAP to enter a salary and gender if a employee's salary<10000 then employee get extra 2% bonus in salary.\n",
    "   Calulate bonus that has to given to teh employee and display the salary of the employee.\n",
    "5) WAP to enter marks of the student in 4 subjects and calculate the total and aggrigade and display the grade obtained by the student as \n",
    " if marks>75 grade distinction\n",
    " marks>=75 and marks<60 1 division\n",
    " marks>=60 and marks<50 2  \" \n",
    " marks>=50 and marks<40 3  \"  \n",
    " else print \"student is fail\""
   ]
  },
  {
   "cell_type": "code",
   "execution_count": 9,
   "metadata": {},
   "outputs": [
    {
     "name": "stdout",
     "output_type": "stream",
     "text": [
      "3048 is a leap year.\n"
     ]
    }
   ],
   "source": [
    "year = int(input(\"Enter a year: \"))\n",
    "\n",
    "if (year % 4 == 0 and year % 100 != 0) or (year % 400 == 0):\n",
    "    print(f\"{year} is a leap year.\")\n",
    "else:\n",
    "    print(f\"{year} is not a leap year.\")\n"
   ]
  },
  {
   "cell_type": "code",
   "execution_count": 11,
   "metadata": {},
   "outputs": [
    {
     "name": "stdout",
     "output_type": "stream",
     "text": [
      "Converted: A\n"
     ]
    }
   ],
   "source": [
    "char = input(\"Enter a character: \")\n",
    "\n",
    "if char.islower():\n",
    "    print(f\"Converted: {char.upper()}\")\n",
    "elif char.isupper():\n",
    "    print(f\"Converted: {char.lower()}\")\n",
    "else:\n",
    "    print(\"Please enter a valid alphabet character.\")\n"
   ]
  },
  {
   "cell_type": "code",
   "execution_count": 16,
   "metadata": {},
   "outputs": [
    {
     "name": "stdout",
     "output_type": "stream",
     "text": [
      "Convet A\n"
     ]
    }
   ],
   "source": [
    "chr=input(\"Enter the character\")\n",
    "if chr>='A'and chr<='Z':\n",
    "    print(f\"Convert :{chr.lower()}\")\n",
    "elif chr>='a'and chr<='z':\n",
    "    print(f\"Convet {chr.upper()}\")    \n",
    "else:\n",
    "    print(\"Enter valid alphabet\")"
   ]
  },
  {
   "cell_type": "code",
   "execution_count": 7,
   "metadata": {},
   "outputs": [
    {
     "name": "stdout",
     "output_type": "stream",
     "text": [
      "The greatest number is: 4\n"
     ]
    }
   ],
   "source": [
    "\n",
    "a = int(input(\"Enter first number: \"))\n",
    "b = int(input(\"Enter second number: \"))\n",
    "c = int(input(\"Enter third number: \"))\n",
    "\n",
    "\n",
    "if a > b:\n",
    "    if a > c:\n",
    "        print(f\"The greatest number is: {a}\")\n",
    "    else:\n",
    "        print(f\"The greatest number is: {c}\")\n",
    "else:\n",
    "    if b > c:\n",
    "        print(f\"The greatest number is: {b}\")\n",
    "    else:\n",
    "        print(f\"The greatest number is: {c}\")\n",
    "\n"
   ]
  },
  {
   "cell_type": "code",
   "execution_count": null,
   "metadata": {},
   "outputs": [
    {
     "name": "stdout",
     "output_type": "stream",
     "text": [
      "Enter the details of the employee\n",
      "The salary after bonus is: 21400.0\n"
     ]
    }
   ],
   "source": [
    "print(\"Enter the details of the employee\")\n",
    "\n",
    "gen = input(\"Enter the gender (M/F): \")\n",
    "salary = int(input(\"Enter the salary of the employee: \"))\n",
    "\n",
    "if gen == 'M':\n",
    "    if salary <= 10000:\n",
    "        salary += salary * 0.05  \n",
    "    else:\n",
    "        salary += salary * 0.02 + salary * 0.05  \n",
    "\n",
    "elif gen == 'F':\n",
    "    if salary <= 10000:\n",
    "        salary += salary * 0.10  \n",
    "    else:\n",
    "        salary += salary * 0.02 + salary * 0.10  \n",
    "\n",
    "else:\n",
    "    print(\"Invalid gender\")\n",
    "   \n",
    "\n",
    "print(f\"The salary after bonus is: {salary}\")\n",
    "\n",
    "\n",
    "    "
   ]
  },
  {
   "cell_type": "code",
   "execution_count": 22,
   "metadata": {},
   "outputs": [
    {
     "name": "stdout",
     "output_type": "stream",
     "text": [
      "1 grade\n",
      "total marks:284\n",
      "average:71.0\n"
     ]
    }
   ],
   "source": [
    "#5\n",
    "a=int(input(\"marks in sst \"))\n",
    "b=int(input(\"marks in eng \"))\n",
    "c=int(input(\"marks in maths \"))\n",
    "d=int(input(\"marks in science \"))\n",
    "total=a+b+c+d\n",
    "ag=(a+b+c+d)/4\n",
    "if(ag>=75):\n",
    "    print(\"disctenction\")\n",
    "    print(f\"total marks:{total}\")\n",
    "    print(f\"average:{ag}\")\n",
    "elif(ag<75 and ag>=60):\n",
    "    print(\"1 grade\")\n",
    "    print(f\"total marks:{total}\")\n",
    "    print(f\"average:{ag}\")\n",
    "elif(ag<60 and ag>=50):\n",
    "    print(\"2 grade\")\n",
    "    print(f\"total marks:{total}\")\n",
    "    print(f\"average:{ag}\")\n",
    "elif(ag<50 and ag>=40):\n",
    "    print(\"3 grade\")\n",
    "    print(f\"total marks:{total}\")\n",
    "    print(f\"average:{ag}\")\n",
    "else:\n",
    "    print(\"fail(-_-)!!!\")\n",
    "    print(f\"total marks:{total}\")\n",
    "    print(f\"average:{ag}\")\n"
   ]
  },
  {
   "cell_type": "code",
   "execution_count": null,
   "metadata": {},
   "outputs": [],
   "source": [
    "n=int(input(\"Enter a no.:\"))\n",
    "while n!=0:\n",
    "    "
   ]
  },
  {
   "cell_type": "code",
   "execution_count": 25,
   "metadata": {},
   "outputs": [
    {
     "name": "stdout",
     "output_type": "stream",
     "text": [
      "153\n",
      "number is armsstong\n"
     ]
    }
   ],
   "source": [
    "a=int(input(\"Enter a no. \"))\n",
    "temp=a\n",
    "n=len(str(a))\n",
    "sum=0\n",
    "while (a!=0):\n",
    "    r=a%10\n",
    "    sum+=r**n\n",
    "    a=a//10\n",
    "\n",
    "print(sum)\n",
    "if sum==temp:\n",
    "    print(\"number is armsstong\")\n",
    "\n",
    "else:\n",
    "    print(\"Number is not an armstrong number \")"
   ]
  },
  {
   "cell_type": "code",
   "execution_count": 26,
   "metadata": {},
   "outputs": [
    {
     "name": "stdout",
     "output_type": "stream",
     "text": [
      "0 1 1 2 3 "
     ]
    }
   ],
   "source": [
    "n = int(input(\"Enter the number of terms: \"))\n",
    "\n",
    "a, b = 0, 1\n",
    "count = 0\n",
    "\n",
    "while count < n:\n",
    "    print(a, end=\" \")\n",
    "    a, b = b, a + b  # Update values\n",
    "    count += 1"
   ]
  },
  {
   "cell_type": "code",
   "execution_count": 1,
   "metadata": {},
   "outputs": [
    {
     "name": "stdout",
     "output_type": "stream",
     "text": [
      "The square of 10 is 100\n"
     ]
    }
   ],
   "source": [
    "# p5)\n",
    "num = int(input(\"Enter a number: \"))\n",
    "i = 1\n",
    "square = 0\n",
    "while i <= num:\n",
    "    square += num\n",
    "    i += 1\n",
    "print(f\"The square of {num} is {square}\")"
   ]
  },
  {
   "cell_type": "code",
   "execution_count": 3,
   "metadata": {},
   "outputs": [
    {
     "name": "stdout",
     "output_type": "stream",
     "text": [
      "1111\n"
     ]
    }
   ],
   "source": [
    "#p6)\n",
    "decimal_number=int(input(\"enter the number:\"))\n",
    "binary_number=bin(decimal_number)[2:]## with the help of this we can avoid the first 2 digit of 0b present when using bin() function.\n",
    "print(binary_number)"
   ]
  },
  {
   "cell_type": "code",
   "execution_count": null,
   "metadata": {},
   "outputs": [],
   "source": [
    "#p7)\n",
    "number=1\n",
    "n=int(input(\"enter number of rows: \"))\n",
    "for i in range(1,n+1):\n",
    "    for j in range(1,i+1):\n",
    "        print(number,end=' ')\n",
    "        number+=1\n",
    "    print()"
   ]
  },
  {
   "cell_type": "code",
   "execution_count": null,
   "metadata": {},
   "outputs": [
    {
     "name": "stdout",
     "output_type": "stream",
     "text": [
      "11 13 17 19 23 29 31 37 41 43 47 53 59 61 67 71 73 79 83 89 97 "
     ]
    }
   ],
   "source": [
    "#p9)\n",
    "a=int(input(\"enter strting number: \"))\n",
    "b=int(input(\"enter ending number: \"))\n",
    "\n",
    "for num in range(a,b+1):\n",
    "    if num > 1:  \n",
    "        is_prime = True\n",
    "        for i in range(2, int(num ** 0.5) + 1): \n",
    "            if num % i == 0:\n",
    "                is_prime = False\n",
    "                break \n",
    "        if is_prime:\n",
    "            print(num, end=\" \")"
   ]
  },
  {
   "cell_type": "code",
   "execution_count": 9,
   "metadata": {},
   "outputs": [
    {
     "name": "stdout",
     "output_type": "stream",
     "text": [
      "Hello world\n",
      "ello world\n",
      "dlrow olleH\n"
     ]
    }
   ],
   "source": [
    "str=\"Hello world\"\n",
    "print(str)\n",
    "print(str[1:])\n",
    "print(str[::-1])"
   ]
  },
  {
   "cell_type": "code",
   "execution_count": null,
   "metadata": {},
   "outputs": [],
   "source": []
  },
  {
   "cell_type": "code",
   "execution_count": null,
   "metadata": {},
   "outputs": [],
   "source": []
  }
 ],
 "metadata": {
  "kernelspec": {
   "display_name": "Python 3",
   "language": "python",
   "name": "python3"
  },
  "language_info": {
   "codemirror_mode": {
    "name": "ipython",
    "version": 3
   },
   "file_extension": ".py",
   "mimetype": "text/x-python",
   "name": "python",
   "nbconvert_exporter": "python",
   "pygments_lexer": "ipython3",
   "version": "3.12.0"
  }
 },
 "nbformat": 4,
 "nbformat_minor": 2
}
